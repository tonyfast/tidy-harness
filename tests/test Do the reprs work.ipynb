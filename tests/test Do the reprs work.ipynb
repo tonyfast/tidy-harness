{
 "cells": [
  {
   "cell_type": "code",
   "execution_count": 1,
   "metadata": {
    "collapsed": true
   },
   "outputs": [],
   "source": [
    "from harness import Harness\n",
    "from sklearn import decomposition"
   ]
  },
  {
   "cell_type": "code",
   "execution_count": 2,
   "metadata": {
    "collapsed": false
   },
   "outputs": [],
   "source": [
    "df = Harness(estimator=decomposition.PCA())"
   ]
  },
  {
   "cell_type": "code",
   "execution_count": 3,
   "metadata": {
    "collapsed": false
   },
   "outputs": [
    {
     "data": {
      "text/plain": [
       "PCA(copy=True, iterated_power='auto', n_components=None, random_state=None,\n",
       "  svd_solver='auto', tol=0.0, whiten=False)"
      ]
     },
     "execution_count": 3,
     "metadata": {},
     "output_type": "execute_result"
    }
   ],
   "source": [
    "df.estimator"
   ]
  },
  {
   "cell_type": "code",
   "execution_count": 4,
   "metadata": {
    "collapsed": false
   },
   "outputs": [
    {
     "data": {
      "text/plain": [
       "Fit the model with X.\n",
       "\n",
       "        Parameters\n",
       "        ----------\n",
       "        X: array-like, shape (n_samples, n_features)\n",
       "            Training data, where n_samples in the number of samples\n",
       "            and n_features is the number of features.\n",
       "\n",
       "        Returns\n",
       "        -------\n",
       "        self : object\n",
       "            Returns the instance itself.\n",
       "        "
      ]
     },
     "execution_count": 4,
     "metadata": {},
     "output_type": "execute_result"
    }
   ],
   "source": [
    "df.fit"
   ]
  },
  {
   "cell_type": "code",
   "execution_count": 5,
   "metadata": {
    "collapsed": false
   },
   "outputs": [
    {
     "data": {
      "text/plain": [
       " Create a scatter chart using :class:`ScatterBuilder <bokeh.charts.builders.scatter_builder.ScatterBuilder>`\n",
       "    to render the geometry from values.\n",
       "\n",
       "    Args:\n",
       "        data (:ref:`userguide_charts_data_types`): table-like data\n",
       "        x (str or list(str), optional): the column label to use for the x dimension\n",
       "        y (str or list(str), optional): the column label to use for the y dimension\n",
       "\n",
       "    In addition to the parameters specific to this chart,\n",
       "    :ref:`userguide_charts_defaults` are also accepted as keyword parameters.\n",
       "\n",
       "    Returns:\n",
       "        :class:`Chart`: includes glyph renderers that generate the scatter points\n",
       "\n",
       "    Examples:\n",
       "\n",
       "    .. bokeh-plot::\n",
       "        :source-position: above\n",
       "\n",
       "        from bokeh.sampledata.autompg import autompg as df\n",
       "        from bokeh.charts import Scatter, output_file, show\n",
       "\n",
       "        scatter = Scatter(df, x='mpg', y='hp', color='cyl', marker='origin',\n",
       "                          title=\"Auto MPG\", xlabel=\"Miles Per Gallon\",\n",
       "                          ylabel=\"Horsepower\")\n",
       "\n",
       "        output_file('scatter.html')\n",
       "        show(scatter)\n",
       "\n",
       "    "
      ]
     },
     "execution_count": 5,
     "metadata": {},
     "output_type": "execute_result"
    }
   ],
   "source": [
    "df.Scatter"
   ]
  },
  {
   "cell_type": "code",
   "execution_count": 6,
   "metadata": {
    "collapsed": false
   },
   "outputs": [
    {
     "name": "stdout",
     "output_type": "stream",
     "text": [
      " Render circle markers. \n",
      "\n",
      "    Example\n",
      "    -------\n",
      "\n",
      "    .. bokeh-plot:: ../tests/glyphs/Circle.py\n",
      "        :source-position: none\n",
      "\n",
      "    *source:* `tests/glyphs/Circle.py <https://github.com/bokeh/bokeh/tree/master/tests/glyphs/Circle.py>`_\n",
      "\n",
      "\n"
     ]
    }
   ],
   "source": [
    "# Reprs dont work for bokeh models\n",
    "print(df.Circle)"
   ]
  },
  {
   "cell_type": "code",
   "execution_count": 7,
   "metadata": {
    "collapsed": false
   },
   "outputs": [
    {
     "data": {
      "text/plain": [
       " Configure the default output state to generate output in\n",
       "    Jupyter/IPython notebook cells when :func:`show` is called.\n",
       "\n",
       "    If output_server() has also been called, the notebook cells\n",
       "    are loaded from the configured server; otherwise, Bokeh pushes\n",
       "    HTML to the notebook directly.\n",
       "\n",
       "    Args:\n",
       "        resources (Resource, optional) :\n",
       "            How and where to load BokehJS from (default: CDN)\n",
       "\n",
       "        verbose (bool, optional) :\n",
       "            whether to display detailed BokehJS banner (default: False)\n",
       "\n",
       "        hide_banner (bool, optional):\n",
       "            whether to hide the Bokeh banner (default: False)\n",
       "\n",
       "        load_timeout (int, optional) :\n",
       "            Timeout in milliseconds when plots assume load timed out (default: 5000)\n",
       "\n",
       "    Returns:\n",
       "        None\n",
       "\n",
       "    .. note::\n",
       "        Generally, this should be called at the beginning of an interactive\n",
       "        session or the top of a script.\n",
       "\n",
       "    "
      ]
     },
     "execution_count": 7,
     "metadata": {},
     "output_type": "execute_result"
    }
   ],
   "source": [
    "df.output_notebook"
   ]
  },
  {
   "cell_type": "code",
   "execution_count": 8,
   "metadata": {
    "collapsed": false
   },
   "outputs": [
    {
     "data": {
      "text/plain": [
       "Configure the default output state to generate output saved\n",
       "    to a file when :func:`show` is called.\n",
       "\n",
       "    Does not change the current Document from curdoc(). File,\n",
       "    server, and notebook output may be active at the same time, so\n",
       "    this does not clear the effects of output_server() or\n",
       "    output_notebook().\n",
       "\n",
       "    Args:\n",
       "        filename (str) : a filename for saving the HTML document\n",
       "\n",
       "        title (str, optional) : a title for the HTML document (default: \"Bokeh Plot\")\n",
       "\n",
       "        autosave (bool, optional) : whether to automatically save (default: False)\n",
       "            If True, then Bokeh plotting APIs may opt to automatically\n",
       "            save the file more frequently (e.g., after any plotting\n",
       "            command). If False, then the file is only saved upon calling\n",
       "            :func:`show` or :func:`save`.\n",
       "\n",
       "        mode (str, optional) : how to include BokehJS (default: ``'cdn'``)\n",
       "            One of: ``'inline'``, ``'cdn'``, ``'relative(-dev)'`` or\n",
       "            ``'absolute(-dev)'``. See :class:`bokeh.resources.Resources` for more details.\n",
       "\n",
       "        root_dir (str, optional) : root directory to use for 'absolute' resources. (default: None)\n",
       "            This value is ignored for other resource types, e.g. ``INLINE`` or\n",
       "            ``CDN``.\n",
       "\n",
       "    Returns:\n",
       "        None\n",
       "\n",
       "    .. note::\n",
       "        Generally, this should be called at the beginning of an interactive\n",
       "        session or the top of a script.\n",
       "\n",
       "    .. warning::\n",
       "        This output file will be overwritten on every save, e.g., each time\n",
       "        show() or save() is invoked, or any time a Bokeh plotting API\n",
       "        causes a save, if ``autosave`` is True.\n",
       "\n",
       "    "
      ]
     },
     "execution_count": 8,
     "metadata": {},
     "output_type": "execute_result"
    }
   ],
   "source": [
    "df.output_file"
   ]
  },
  {
   "cell_type": "code",
   "execution_count": 9,
   "metadata": {
    "collapsed": true
   },
   "outputs": [],
   "source": []
  },
  {
   "cell_type": "code",
   "execution_count": 9,
   "metadata": {
    "collapsed": true
   },
   "outputs": [],
   "source": []
  }
 ],
 "metadata": {
  "anaconda-cloud": {},
  "kernelspec": {
   "display_name": "Python [default]",
   "language": "python",
   "name": "python3"
  },
  "language_info": {
   "codemirror_mode": {
    "name": "ipython",
    "version": 3
   },
   "file_extension": ".py",
   "mimetype": "text/x-python",
   "name": "python",
   "nbconvert_exporter": "python",
   "pygments_lexer": "ipython3",
   "version": "3.5.2"
  }
 },
 "nbformat": 4,
 "nbformat_minor": 1
}
