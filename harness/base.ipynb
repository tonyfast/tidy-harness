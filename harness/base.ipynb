{
 "cells": [
  {
   "cell_type": "code",
   "execution_count": 3,
   "metadata": {
    "collapsed": true
   },
   "outputs": [],
   "source": [
    "import operator, sklearn\n",
    "from toolz.curried import (\n",
    "    compose, concatv, first, identity, keyfilter, map, merge, partial, pipe, valmap\n",
    ")"
   ]
  },
  {
   "cell_type": "code",
   "execution_count": 4,
   "metadata": {
    "collapsed": false
   },
   "outputs": [],
   "source": [
    "class AttributeObject(sklearn.base.BaseEstimator):\n",
    "    \"\"\"Return by extensions to change the doc, repr, & call attributes        \n",
    "    \"\"\"\n",
    "    def __init__(\n",
    "        self, func, \n",
    "        callback=identity, \n",
    "        arguments=[],\n",
    "        keywords={},\n",
    "    ):\n",
    "        self.arguments = arguments\n",
    "        self.callback = callback\n",
    "        self.func = func\n",
    "        self.keywords = keywords\n",
    "        \n",
    "        \n",
    "    @staticmethod\n",
    "    def _call_lazy_function(func):\n",
    "        \"\"\"Call a function if is callable applying no arguments.\"\"\"\n",
    "        return func() if callable(func) else func\n",
    "\n",
    "    def _prepare_args(self, *args):\n",
    "        \"\"\"Replace any string argument in the keywords with\n",
    "        the respective value.  Call any value that \n",
    "        is callable, no arguments are applied\n",
    "        to these function.\n",
    "        \"\"\"\n",
    "        return pipe(\n",
    "            args, \n",
    "            map(\n",
    "                lambda possible_kw: \n",
    "                self.keywords\n",
    "                if possible_kw in self.keywords \n",
    "                else possible_kw\n",
    "            ),\n",
    "            map(self._call_lazy_function),\n",
    "            list,\n",
    "        )\n",
    "    def _prepare_kwargs(self, **kwargs):\n",
    "        \"\"\"Filter keywords with the function arguments.  Call\n",
    "        any value that is callable, no arguments are applied\n",
    "        to these function.\n",
    "        \"\"\"\n",
    "        return valmap(\n",
    "            self._call_lazy_function, \n",
    "            merge(\n",
    "                keyfilter(partial(operator.contains, self.arguments), self.keywords),\n",
    "                kwargs,\n",
    "            )\n",
    "        )\n",
    "\n",
    "    def __call__(self, *args, **kwargs):\n",
    "        \"\"\"Compose the function then prepare its arguments finally\n",
    "        call it.\"\"\"\n",
    "        return compose(self.callback, self.func)(\n",
    "                *self._prepare_args(*args), \n",
    "                **self._prepare_kwargs(**kwargs), \n",
    "            )\n",
    "    \n",
    "    def __repr__(self):\n",
    "        \"\"\"A custom repr.\"\"\"\n",
    "        try:\n",
    "            return self.func.__doc__\n",
    "        except:\n",
    "            return \"\"\"\n",
    "            The method {} can accept {} as key arguments.\n",
    "            \"\"\".format(self.func, self.arguments)\n",
    "        \n",
    "    def __getattribute__(self, attr):\n",
    "        \"\"\"Allow additional attributes to be accessed.\"\"\"\n",
    "        try:\n",
    "            return super().__getattribute__(attr)\n",
    "        except AttributeError:\n",
    "            return AttributeObject(\n",
    "                func=getattr(self.func, attr),\n",
    "                arguments=self.arguments,\n",
    "                keywords=self.keywords,\n",
    "            )\n",
    "        \n",
    "        \n",
    "    def __dir__(self):\n",
    "        \"\"\"Extend the predicted attributes.\"\"\"\n",
    "        return concatv(super().__dir__(), dir(self.func))"
   ]
  },
  {
   "cell_type": "code",
   "execution_count": null,
   "metadata": {
    "collapsed": true
   },
   "outputs": [],
   "source": []
  }
 ],
 "metadata": {
  "anaconda-cloud": {},
  "kernelspec": {
   "display_name": "Python [default]",
   "language": "python",
   "name": "python3"
  },
  "language_info": {
   "codemirror_mode": {
    "name": "ipython",
    "version": 3
   },
   "file_extension": ".py",
   "mimetype": "text/x-python",
   "name": "python",
   "nbconvert_exporter": "python",
   "pygments_lexer": "ipython3",
   "version": "3.5.2"
  }
 },
 "nbformat": 4,
 "nbformat_minor": 1
}
