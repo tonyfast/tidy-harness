{
 "cells": [
  {
   "cell_type": "code",
   "execution_count": 6,
   "metadata": {
    "collapsed": false
   },
   "outputs": [],
   "source": [
    "try:\n",
    "    from ..base import AttributeObject\n",
    "except:\n",
    "    from harness.python.base import AttributeObject\n",
    "\n",
    "from toolz.curried import *\n",
    "import importlib, inspect, jinja2.ext\n",
    "\n",
    "__all__ = ['HarnessExtension']"
   ]
  },
  {
   "cell_type": "code",
   "execution_count": 4,
   "metadata": {
    "collapsed": false
   },
   "outputs": [],
   "source": [
    "class HarnessExtension(jinja2.ext.Extension):\n",
    "    \"\"\"Use the jinja2 extension framework to create build Harness templates.\n",
    "    imports - string object that can load a module.\n",
    "    module_ - a derived object containing the main module of the extension.\n",
    "    \"\"\"\n",
    "    \n",
    "    imports = None \n",
    "    mixin = None\n",
    "    alias = \"\"\n",
    "    \n",
    "    def __init__(self, environment):\n",
    "        self.function = identity\n",
    "        if self.imports:\n",
    "            self.module_= importlib.import_module(self.imports)\n",
    "\n",
    "    def pipe(self, dataframe, attr,):\n",
    "        function = None\n",
    "        try: # to access the attribute from the module\n",
    "            function = getattr(self.module_, attr)\n",
    "        except AttributeError: pass\n",
    "\n",
    "        try: # to access the attriubte from the class superceding the module\n",
    "            function = getattr(self, attr)\n",
    "        except AttributeError: pass\n",
    "\n",
    "        if not(function is None):\n",
    "            if not callable(function):\n",
    "                return function # which is a non-callable datatype\n",
    "            value = AttributeObject(\n",
    "                func=function, \n",
    "                callback=partial(self.callback, dataframe),\n",
    "                arguments=self.arguments(function),\n",
    "                keywords=self.keywords(dataframe),\n",
    "            )\n",
    "            return value\n",
    "        \n",
    "        \n",
    "    def callback(self, dataframe, value):\n",
    "        \n",
    "        return value\n",
    "        \n",
    "    def arguments(self, function):\n",
    "        try:\n",
    "             return inspect.getfullargspec(function).args\n",
    "        except TypeError: pass\n",
    "        return []\n",
    "    \n",
    "    def keywords(self, dataframe):\n",
    "        return {}\n",
    "    \n",
    "    def __dir__(self):\n",
    "        return list(\n",
    "            concatv(\n",
    "                super().__dir__(), \n",
    "                dir(self.module_) if hasattr(self, 'module_') else []\n",
    "            )\n",
    "        )"
   ]
  },
  {
   "cell_type": "code",
   "execution_count": 6,
   "metadata": {
    "collapsed": false
   },
   "outputs": [],
   "source": [
    "class JinjaExtension(HarnessExtension):\n",
    "    alias = 'jinja2'\n",
    "    def __init__(self, environment):\n",
    "        super().__init__(environment)\n",
    "        self.env = environment\n",
    "        self.module_ = environment\n",
    "        \n",
    "    def callback(self, dataframe, value):\n",
    "        if isinstance(value, jinja2.Template):\n",
    "            value = value.render(df=dataframe)\n",
    "        if isinstance(value, jinja2.BaseLoader):\n",
    "            return dataframe\n",
    "        return value\n",
    "    \n",
    "    def add_template(self, **kwargs):\n",
    "        # This will break with a custom environment\n",
    "        first(self.env.loader.loaders).mapping.update(**kwargs)\n",
    "        return self.env.loader"
   ]
  }
 ],
 "metadata": {
  "anaconda-cloud": {},
  "kernelspec": {
   "display_name": "Python [default]",
   "language": "python",
   "name": "python3"
  },
  "language_info": {
   "codemirror_mode": {
    "name": "ipython",
    "version": 3
   },
   "file_extension": ".py",
   "mimetype": "text/x-python",
   "name": "python",
   "nbconvert_exporter": "python",
   "pygments_lexer": "ipython3",
   "version": "3.5.2"
  }
 },
 "nbformat": 4,
 "nbformat_minor": 1
}
