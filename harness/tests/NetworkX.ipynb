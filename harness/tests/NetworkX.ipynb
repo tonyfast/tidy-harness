{
 "cells": [
  {
   "cell_type": "code",
   "execution_count": 1,
   "metadata": {
    "collapsed": false
   },
   "outputs": [],
   "source": [
    "from harness import Harness\n",
    "import pandas\n",
    "from harness.python.ext import HarnessExtension"
   ]
  },
  {
   "cell_type": "code",
   "execution_count": 2,
   "metadata": {
    "collapsed": false
   },
   "outputs": [],
   "source": [
    "class NetworkXMixin:\n",
    "    graph = None\n",
    "\n",
    "class NetworkXExtension(HarnessExtension):\n",
    "    imports = 'networkx'\n",
    "    mixin = NetworkXMixin\n",
    "    \n",
    "    def keywords(self, dataframe):\n",
    "        return {\n",
    "            'G': lambda: dataframe.graph,\n",
    "            'df': lambda: dataframe,\n",
    "        }\n",
    "    \n",
    "    def to_graph(self, source, target, edge_attr=True, df=None):\n",
    "        df.graph = self.module_.from_pandas_dataframe(\n",
    "            df, source, target, edge_attr\n",
    "        )\n",
    "        return df.graph\n",
    "    \n",
    "    def callback(self, dataframe, value):\n",
    "        if isinstance(value, self.module_.Graph):\n",
    "            return dataframe\n",
    "        return value\n",
    "    \n",
    "    def edges(self, df):\n",
    "        return df.graph.edges()\n",
    "    \n",
    "    def nodes(self, df):\n",
    "        return df.graph.nodes()\n",
    "        "
   ]
  }
 ],
 "metadata": {
  "anaconda-cloud": {},
  "kernelspec": {
   "display_name": "Python [default]",
   "language": "python",
   "name": "python3"
  },
  "language_info": {
   "codemirror_mode": {
    "name": "ipython",
    "version": 3
   },
   "file_extension": ".py",
   "mimetype": "text/x-python",
   "name": "python",
   "nbconvert_exporter": "python",
   "pygments_lexer": "ipython3",
   "version": "3.5.2"
  }
 },
 "nbformat": 4,
 "nbformat_minor": 1
}
