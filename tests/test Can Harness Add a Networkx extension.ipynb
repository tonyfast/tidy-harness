{
 "cells": [
  {
   "cell_type": "code",
   "execution_count": 1,
   "metadata": {
    "collapsed": false
   },
   "outputs": [],
   "source": [
    "from harness import Harness\n",
    "import pandas\n",
    "from harness.ext import HarnessExtension"
   ]
  },
  {
   "cell_type": "code",
   "execution_count": 2,
   "metadata": {
    "collapsed": false
   },
   "outputs": [],
   "source": [
    "\n",
    "\n",
    "class NetworkXMixin:\n",
    "    graph = None\n",
    "\n",
    "class NetworkXExtension(HarnessExtension):\n",
    "    imports = 'networkx'\n",
    "    mixin = NetworkXMixin\n",
    "    \n",
    "    def keywords(self, dataframe):\n",
    "        return {\n",
    "            'G': lambda: dataframe.graph,\n",
    "            'df': lambda: dataframe,\n",
    "        }\n",
    "    \n",
    "    def to_graph(self, source, target, edge_attr=True, df=None):\n",
    "        df.graph = self.module_.from_pandas_dataframe(\n",
    "            df, source, target, edge_attr\n",
    "        )\n",
    "        return df.graph\n",
    "    \n",
    "    def callback(self, dataframe, value):\n",
    "        if isinstance(value, self.module_.Graph):\n",
    "            return dataframe\n",
    "        return value\n",
    "    \n",
    "    def edges(self, df):\n",
    "        return df.graph.edges()\n",
    "    \n",
    "    def nodes(self, df):\n",
    "        return df.graph.nodes()\n",
    "        "
   ]
  },
  {
   "cell_type": "code",
   "execution_count": 3,
   "metadata": {
    "collapsed": false
   },
   "outputs": [],
   "source": [
    "extensions = [\n",
    "    'harness.ext.base.JinjaExtension',\n",
    "    'harness.ext.SciKit.SciKitExtension', \n",
    "    'harness.ext.Bokeh.BokehModelsExtension',     \n",
    "    'harness.ext.Bokeh.BokehPlottingExtension',\n",
    "    'harness.ext.Bokeh.BokehChartsExtension',\n",
    "    '__main__.NetworkXExtension'\n",
    "]"
   ]
  },
  {
   "cell_type": "code",
   "execution_count": 4,
   "metadata": {
    "collapsed": false
   },
   "outputs": [],
   "source": [
    "df = Harness(pandas.np.random.randn(10,2), extensions=extensions)"
   ]
  },
  {
   "cell_type": "code",
   "execution_count": 5,
   "metadata": {
    "collapsed": false
   },
   "outputs": [
    {
     "data": {
      "text/html": [
       "<div>\n",
       "<table border=\"1\" class=\"dataframe\">\n",
       "  <thead>\n",
       "    <tr style=\"text-align: right;\">\n",
       "      <th></th>\n",
       "      <th>0</th>\n",
       "      <th>1</th>\n",
       "    </tr>\n",
       "  </thead>\n",
       "  <tbody>\n",
       "    <tr>\n",
       "      <th>0</th>\n",
       "      <td>-0.282207</td>\n",
       "      <td>-0.397016</td>\n",
       "    </tr>\n",
       "    <tr>\n",
       "      <th>1</th>\n",
       "      <td>-1.631498</td>\n",
       "      <td>-0.994581</td>\n",
       "    </tr>\n",
       "    <tr>\n",
       "      <th>2</th>\n",
       "      <td>1.334416</td>\n",
       "      <td>-0.313173</td>\n",
       "    </tr>\n",
       "    <tr>\n",
       "      <th>3</th>\n",
       "      <td>0.452864</td>\n",
       "      <td>-1.494150</td>\n",
       "    </tr>\n",
       "    <tr>\n",
       "      <th>4</th>\n",
       "      <td>-0.796372</td>\n",
       "      <td>-0.164336</td>\n",
       "    </tr>\n",
       "    <tr>\n",
       "      <th>5</th>\n",
       "      <td>-0.076080</td>\n",
       "      <td>0.042908</td>\n",
       "    </tr>\n",
       "    <tr>\n",
       "      <th>6</th>\n",
       "      <td>0.325918</td>\n",
       "      <td>-1.468887</td>\n",
       "    </tr>\n",
       "    <tr>\n",
       "      <th>7</th>\n",
       "      <td>-0.831066</td>\n",
       "      <td>0.087651</td>\n",
       "    </tr>\n",
       "    <tr>\n",
       "      <th>8</th>\n",
       "      <td>0.071332</td>\n",
       "      <td>-0.737110</td>\n",
       "    </tr>\n",
       "    <tr>\n",
       "      <th>9</th>\n",
       "      <td>-0.530988</td>\n",
       "      <td>-1.073587</td>\n",
       "    </tr>\n",
       "  </tbody>\n",
       "</table>\n",
       "</div>"
      ],
      "text/plain": [
       "          0         1\n",
       "0 -0.282207 -0.397016\n",
       "1 -1.631498 -0.994581\n",
       "2  1.334416 -0.313173\n",
       "3  0.452864 -1.494150\n",
       "4 -0.796372 -0.164336\n",
       "5 -0.076080  0.042908\n",
       "6  0.325918 -1.468887\n",
       "7 -0.831066  0.087651\n",
       "8  0.071332 -0.737110\n",
       "9 -0.530988 -1.073587"
      ]
     },
     "execution_count": 5,
     "metadata": {},
     "output_type": "execute_result"
    }
   ],
   "source": [
    "df.to_graph(source=0, target=1)"
   ]
  },
  {
   "cell_type": "code",
   "execution_count": 6,
   "metadata": {
    "collapsed": false
   },
   "outputs": [
    {
     "data": {
      "text/plain": [
       "[(-0.28220693678044062, -0.39701556712530933),\n",
       " (-0.83106586418579353, 0.087651005067872961),\n",
       " (0.45286401834757717, -1.4941502874674799),\n",
       " (1.3344159018299877, -0.31317286750790163),\n",
       " (-0.076079991941336522, 0.042907602597190724),\n",
       " (0.32591815562673004, -1.4688865114099474),\n",
       " (-0.73710983778863381, 0.071332024073843522),\n",
       " (-0.53098785489182398, -1.0735870456615446),\n",
       " (-0.79637227526616949, -0.16433591963849029),\n",
       " (-1.6314977848894583, -0.99458107475358803)]"
      ]
     },
     "execution_count": 6,
     "metadata": {},
     "output_type": "execute_result"
    }
   ],
   "source": [
    "df.to_graph(0, 1).edges()"
   ]
  },
  {
   "cell_type": "code",
   "execution_count": 7,
   "metadata": {
    "collapsed": false
   },
   "outputs": [
    {
     "data": {
      "text/plain": [
       "[(-0.28220693678044062, -0.39701556712530933),\n",
       " (-0.83106586418579353, 0.087651005067872961),\n",
       " (0.45286401834757717, -1.4941502874674799),\n",
       " (1.3344159018299877, -0.31317286750790163),\n",
       " (-0.076079991941336522, 0.042907602597190724),\n",
       " (0.32591815562673004, -1.4688865114099474),\n",
       " (-0.73710983778863381, 0.071332024073843522),\n",
       " (-0.53098785489182398, -1.0735870456615446),\n",
       " (-0.79637227526616949, -0.16433591963849029),\n",
       " (-1.6314977848894583, -0.99458107475358803)]"
      ]
     },
     "execution_count": 7,
     "metadata": {},
     "output_type": "execute_result"
    }
   ],
   "source": [
    "df.edges()"
   ]
  },
  {
   "cell_type": "code",
   "execution_count": 8,
   "metadata": {
    "collapsed": false
   },
   "outputs": [
    {
     "data": {
      "text/html": [
       "<div>\n",
       "<table border=\"1\" class=\"dataframe\">\n",
       "  <thead>\n",
       "    <tr style=\"text-align: right;\">\n",
       "      <th></th>\n",
       "      <th>0</th>\n",
       "      <th>1</th>\n",
       "    </tr>\n",
       "  </thead>\n",
       "  <tbody>\n",
       "    <tr>\n",
       "      <th>0.325918</th>\n",
       "      <td>0.796908</td>\n",
       "      <td>0.114316</td>\n",
       "    </tr>\n",
       "    <tr>\n",
       "      <th>-1.494150</th>\n",
       "      <td>0.477329</td>\n",
       "      <td>0.000000</td>\n",
       "    </tr>\n",
       "  </tbody>\n",
       "</table>\n",
       "</div>"
      ],
      "text/plain": [
       "                  0         1\n",
       " 0.325918  0.796908  0.114316\n",
       "-1.494150  0.477329  0.000000"
      ]
     },
     "execution_count": 8,
     "metadata": {},
     "output_type": "execute_result"
    }
   ],
   "source": [
    "Harness(df.spring_layout()).transpose().sample(2)"
   ]
  },
  {
   "cell_type": "code",
   "execution_count": 9,
   "metadata": {
    "collapsed": false
   },
   "outputs": [
    {
     "data": {
      "image/png": "[encoded data removed]",
      "text/plain": [
       "<matplotlib.figure.Figure at 0x11d49bf98>"
      ]
     },
     "metadata": {},
     "output_type": "display_data"
    }
   ],
   "source": [
    "%matplotlib inline\n",
    "df.draw_circular()"
   ]
  },
  {
   "cell_type": "code",
   "execution_count": 10,
   "metadata": {
    "collapsed": true
   },
   "outputs": [],
   "source": []
  }
 ],
 "metadata": {
  "anaconda-cloud": {},
  "kernelspec": {
   "display_name": "Python [default]",
   "language": "python",
   "name": "python3"
  },
  "language_info": {
   "codemirror_mode": {
    "name": "ipython",
    "version": 3
   },
   "file_extension": ".py",
   "mimetype": "text/x-python",
   "name": "python",
   "nbconvert_exporter": "python",
   "pygments_lexer": "ipython3",
   "version": "3.5.2"
  }
 },
 "nbformat": 4,
 "nbformat_minor": 1
}
