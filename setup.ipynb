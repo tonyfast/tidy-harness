{
 "cells": [
  {
   "cell_type": "code",
   "execution_count": 85,
   "metadata": {
    "collapsed": false
   },
   "outputs": [],
   "source": [
    "from os.path import join, dirname\n",
    "import setuptools\n",
    "\n",
    "\n",
    "def read(fname):\n",
    "    with open(join(dirname(__file__), fname)) as f:\n",
    "        return f.read()\n",
    "\n",
    "from distutils.core import setup, Command\n",
    "# you can also import from setuptools\n",
    "\n",
    "\n",
    "setuptools.setup(\n",
    "    name=\"tidy-harness\",\n",
    "    version=\"0.1.0\",\n",
    "    author=\"Tony Fast\",\n",
    "    author_email=\"tony.fast@gmail.com\",\n",
    "    description=\"A Test Harness in a DataFrame\",\n",
    "    license=\"BSD-3-Clause\",\n",
    "    keywords=\"IPython Magic Jupyter\",\n",
    "    url=\"http://github.com/tonyfast/tidy-harness\",\n",
    "    packages=setuptools.find_packages(),\n",
    "#     long_description=read(\"readme.rst\"),\n",
    "    classifiers=[\n",
    "        \"Topic :: Utilities\",\n",
    "        \"Framework :: IPython\",\n",
    "        \"Natural Language :: English\",\n",
    "        \"Programming Language :: Python\",\n",
    "        \"Intended Audience :: Developers\",\n",
    "        \"Development Status :: 3 - Alpha\",\n",
    "        \"Operating System :: OS Independent\",\n",
    "        \"Programming Language :: Python :: 3\",\n",
    "        \"License :: OSI Approved :: BSD License\",\n",
    "        \"Topic :: Software Development :: Testing\",\n",
    "    ],\n",
    "    install_requires=[\n",
    "#         \"sklearn\", \"pandas\", \"jinja2\", \"bokeh\"\n",
    "    ],\n",
    "    tests_require=[\n",
    "#         'pytest', 'pytest-ipynb'\n",
    "    ],\n",
    ")"
   ]
  }
 ],
 "metadata": {
  "anaconda-cloud": {
   "environment": null,
   "url": "https://anaconda.org/tonyfast/harnly"
  },
  "kernelspec": {
   "display_name": "Python [default]",
   "language": "python",
   "name": "python3"
  },
  "language_info": {
   "codemirror_mode": {
    "name": "ipython",
    "version": 3
   },
   "file_extension": ".py",
   "mimetype": "text/x-python",
   "name": "python",
   "nbconvert_exporter": "python",
   "pygments_lexer": "ipython3",
   "version": "3.5.2"
  }
 },
 "nbformat": 4,
 "nbformat_minor": 1
}
