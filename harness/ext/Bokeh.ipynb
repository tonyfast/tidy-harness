{
 "cells": [
  {
   "cell_type": "code",
   "execution_count": 4,
   "metadata": {
    "collapsed": false
   },
   "outputs": [],
   "source": [
    "try:\n",
    "    from .base import HarnessExtension\n",
    "except:\n",
    "    from harness.python.base import HarnessExtension\n",
    "\n",
    "from toolz.curried import *\n",
    "import bokeh.charts, bokeh.plotting, contextlib, pandas"
   ]
  },
  {
   "cell_type": "code",
   "execution_count": null,
   "metadata": {
    "collapsed": true
   },
   "outputs": [],
   "source": [
    "class BokehPlottingMixin:\n",
    "    \"\"\"Add lists to manage Bokeh objects and a Bokeh context\n",
    "    manager\n",
    "    \"\"\"\n",
    "    # Bokeh stuff\n",
    "    figures=[]\n",
    "    sources=[]\n",
    "    renderers=[]\n",
    "\n",
    "    \n",
    "    @contextlib.contextmanager\n",
    "    def DataSource(self, **kwargs):\n",
    "        \"\"\"In interactive notebooks, Bokeh objects can slow\n",
    "        down the browser.  Use this context manager to avoid\n",
    "        excessive memory usage.\n",
    "        \"\"\"\n",
    "        last_figure, last_source, last_renderer = \\\n",
    "            len(self.figures), len(self.sources), len(self.renderers)\n",
    "        source = self.rename(columns=itemmap(reversed, kwargs))\n",
    "        yield source\n",
    "        while source.renderers[last_renderer:]:\n",
    "            if source.renderers: \n",
    "                f = source.renderers.pop()\n",
    "                if not f in source.renderers[:last_renderer]: del f\n",
    "        while source.sources[last_source:]:\n",
    "            if source.sources: \n",
    "                f = source.sources.pop()\n",
    "                if not f in source.sources[:last_source]: del f            \n",
    "        while source.figures[last_figure:]:\n",
    "            if source.figures: \n",
    "                f = source.figures.pop()\n",
    "                if not f in source.figures[:last_figure]: del f            \n",
    "\n"
   ]
  },
  {
   "cell_type": "code",
   "execution_count": 5,
   "metadata": {
    "collapsed": true
   },
   "outputs": [],
   "source": [
    "class BokehExtension(HarnessExtension):\n",
    "    mixin = BokehPlottingMixin\n",
    "    def arguments(self, function):\n",
    "        try:\n",
    "             return function.properties()\n",
    "        except AttributeError: pass\n",
    "        return super().arguments(function)\n",
    "    \n",
    "    def _to_source(self, dataframe):\n",
    "        if isinstance(dataframe.columns, pandas.MultiIndex):\n",
    "            raise ValueError(\"Dataframe cannot have MultiIndex columns.\")\n",
    "        dataframe.columns = dataframe.columns.astype(str)\n",
    "        if isinstance(dataframe.index, pandas.MultiIndex):\n",
    "            dataframe = dataframe.reset_index()\n",
    "        return dataframe\n",
    "    \n",
    "    def callback(self, dataframe, value):\n",
    "        if isinstance(value, bokeh.models.Glyph):\n",
    "            value = last(dataframe.figures).add_glyph(\n",
    "                last(dataframe.sources), value\n",
    "            )\n",
    "        if isinstance(value, bokeh.models.GlyphRenderer):\n",
    "            dataframe.renderers.append(value)\n",
    "        if isinstance(value, bokeh.models.sources.ColumnDataSource):\n",
    "            dataframe.sources.append(value)\n",
    "        if isinstance(value, (bokeh.plotting.Figure, bokeh.charts.Chart)):\n",
    "            dataframe.figures.append(value)\n",
    "        return dataframe\n",
    "    \n",
    "    def figure(self, p=None, **kwargs):\n",
    "        if not (p is None):\n",
    "            return p\n",
    "        return bokeh.plotting.figure(**kwargs)"
   ]
  },
  {
   "cell_type": "code",
   "execution_count": 8,
   "metadata": {
    "collapsed": false
   },
   "outputs": [],
   "source": [
    "class BokehPlottingExtension(BokehExtension):\n",
    "    alias = 'plotting'\n",
    "    imports = 'bokeh.plotting'\n",
    "    def keywords(self, dataframe):\n",
    "        return {\n",
    "            'source': partial(last, dataframe.sources),\n",
    "            'obj': partial(last, dataframe.figures),\n",
    "            **pipe(\n",
    "                last(dataframe.sources).column_names \n",
    "                if dataframe.sources\n",
    "                else [],\n",
    "                map(juxt(identity, identity)),\n",
    "                dict\n",
    "            )\n",
    "        }"
   ]
  },
  {
   "cell_type": "code",
   "execution_count": 6,
   "metadata": {
    "collapsed": false
   },
   "outputs": [],
   "source": [
    "class BokehChartsExtension(BokehExtension):\n",
    "    alias = 'charts'\n",
    "    imports = 'bokeh.charts'\n",
    "    def keywords(self, dataframe):\n",
    "        return {\n",
    "            'data': partial(dataframe.pipe, self._to_source),\n",
    "            'obj': partial(last, dataframe.figures),\n",
    "            # Use this for show\n",
    "            **pipe(\n",
    "                dataframe.columns.tolist(),\n",
    "                map(juxt(identity, identity)),\n",
    "                dict\n",
    "            )\n",
    "        }"
   ]
  },
  {
   "cell_type": "code",
   "execution_count": 7,
   "metadata": {
    "collapsed": false
   },
   "outputs": [],
   "source": [
    "class BokehModelsExtension(BokehExtension):\n",
    "    alias = 'models'\n",
    "    imports = 'bokeh.models'\n",
    "    \n",
    "    def keywords(self, dataframe):\n",
    "        return {\n",
    "            'data': partial(identity, dataframe),\n",
    "            **pipe(\n",
    "                last(dataframe.sources).column_names \n",
    "                if dataframe.sources\n",
    "                else [],\n",
    "                map(juxt(identity, identity)),\n",
    "                dict\n",
    "            )\n",
    "        }\n",
    "    "
   ]
  },
  {
   "cell_type": "code",
   "execution_count": null,
   "metadata": {
    "collapsed": false
   },
   "outputs": [],
   "source": [
    "\n",
    "\n",
    "\n",
    "# import sklearn.decomposition\n",
    "\n",
    "# import pandas\n",
    "\n",
    "# df = pandas.util.testing.makeDataFrame()\n",
    "\n",
    "# import bokeh.plotting, bokeh.charts\n",
    "\n",
    "# df.figures = [bokeh.plotting.figure()]\n",
    "# df.sources = [df.pipe(bokeh.plotting.ColumnDataSource)]\n",
    "# df.estimator = sklearn.decomposition.PCA(n_components=2)\n",
    "# df.extensions = ['__main__.SciKitExtension', '__main__.BokehChartsExtension', '__main__.BokehModelsExtension']\n",
    "# df.feature_level=0\n",
    "# env = HarnessEnvironment(extensions=df.extensions)\n",
    "\n",
    "# v = env.do(df, 'fit_transform')\n",
    "\n",
    "# v()\n",
    "\n",
    "# env.extensions\n",
    "\n"
   ]
  }
 ],
 "metadata": {
  "anaconda-cloud": {},
  "kernelspec": {
   "display_name": "Python [default]",
   "language": "python",
   "name": "python3"
  },
  "language_info": {
   "codemirror_mode": {
    "name": "ipython",
    "version": 3
   },
   "file_extension": ".py",
   "mimetype": "text/x-python",
   "name": "python",
   "nbconvert_exporter": "python",
   "pygments_lexer": "ipython3",
   "version": "3.5.2"
  }
 },
 "nbformat": 4,
 "nbformat_minor": 1
}
