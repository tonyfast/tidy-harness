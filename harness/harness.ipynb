{
 "cells": [
  {
   "cell_type": "code",
   "execution_count": 1,
   "metadata": {
    "collapsed": false
   },
   "outputs": [],
   "source": [
    "# !jupyter nbconvert --to script *.ipynb **/*.ipynb"
   ]
  },
  {
   "cell_type": "code",
   "execution_count": 3,
   "metadata": {
    "collapsed": false
   },
   "outputs": [],
   "source": [
    "\n",
    "try:\n",
    "    from .environment import HarnessEnvironment\n",
    "    from .base import AttributeObject\n",
    "except SystemError:\n",
    "    from environment import HarnessEnvironment\n",
    "    from base import AttributeObject\n",
    "    \n",
    "import abc,  builtins, collections, contextlib, inspect, jinja2, operator, pandas, \\\n",
    "    sklearn.base, time, toolz.curried, typing\n",
    "\n",
    "\n",
    "np = pandas.np\n",
    "\n",
    "from toolz.curried import (\n",
    "    complement, compose, concat, concatv, do, excepts, filter, \n",
    "    first, get, identity, itemmap, juxt, keyfilter, last, map, \n",
    "    merge, partial, pipe, valfilter, valmap\n",
    ")\n",
    "\n",
    "__all__ = ['Harness']"
   ]
  },
  {
   "cell_type": "markdown",
   "metadata": {},
   "source": [
    "A normal output may look like.\n",
    "\n",
    "The normal `sklearn` model has a `__repr__` like:\n",
    "\n",
    "```\n",
    "<bound method LinearDiscriminantAnalysis.fit of LinearDiscriminantAnalysis(n_components=None, priors=None, shrinkage=None,\n",
    "              solver='svd', store_covariance=False, tol=0.0001)>\n",
    "```\n",
    "\n",
    "In most circumstances, a scientist may be curious how to use a function.  The `AttributeObject` method changes:\n",
    "\n",
    "* `__repr__` to show the docstring in the output.\n",
    "* `__doc__` will by dynamic for any function. \n",
    "* `__call__` will introspect a function for keywords argument `keys` then inject these values into the function call.  Any argument or keyword value that is a callable is called with not arguments allowing lazy evaluation."
   ]
  },
  {
   "cell_type": "code",
   "execution_count": 4,
   "metadata": {
    "collapsed": false
   },
   "outputs": [],
   "source": [
    "class DataFrameEstimatorMixin(pandas.DataFrame, sklearn.base.BaseEstimator):\n",
    "    \"\"\"Combine a DataFrame and BaseEstimator.  def __init__ must start\n",
    "    with the DataFrame keyword spec.\"\"\"\n",
    "    _series = pandas.Series\n",
    "\n",
    "    def __dir__(self):\n",
    "        return concatv(super().__dir__(), self._metadata)\n",
    "\n",
    "    @property\n",
    "    def _constructor(self):\n",
    "        return self.__class__\n",
    "\n",
    "    @property\n",
    "    def _constructor_expanddim(self):\n",
    "        return self.__class__\n",
    "\n",
    "    @property\n",
    "    def _constructor_sliced(self):\n",
    "        return self._series\n",
    "\n",
    "    @property\n",
    "    def _metadata(self):\n",
    "        return self._get_param_names()\n",
    "    \n",
    "    def __dir__(self):\n",
    "        return concatv(super().__dir__(), list(self.get_params()))\n",
    "    \n",
    "    def set_params(self, **kwargs):\n",
    "        params = []\n",
    "        try:\n",
    "            params = self.estimator.get_params()\n",
    "        except: pass\n",
    "        \n",
    "        for key, value in kwargs.items():\n",
    "            if key in params:\n",
    "                self.estimator.set_params(**{key: value})\n",
    "            else:\n",
    "                super().set_params(**{key: value})\n",
    "        return self\n",
    "    "
   ]
  },
  {
   "cell_type": "code",
   "execution_count": 5,
   "metadata": {
    "collapsed": false
   },
   "outputs": [
    {
     "ename": "SyntaxError",
     "evalue": "invalid syntax (<ipython-input-5-fe815e90baa8>, line 53)",
     "output_type": "error",
     "traceback": [
      "\u001b[0;36m  File \u001b[0;32m\"<ipython-input-5-fe815e90baa8>\"\u001b[0;36m, line \u001b[0;32m53\u001b[0m\n\u001b[0;31m    try:\u001b[0m\n\u001b[0m      ^\u001b[0m\n\u001b[0;31mSyntaxError\u001b[0m\u001b[0;31m:\u001b[0m invalid syntax\n"
     ]
    }
   ],
   "source": [
    "class HarnessMixins(DataFrameEstimatorMixin):    \n",
    "    @property\n",
    "    def column_names(self):\n",
    "        \"\"\"Include the index names in the column names.\"\"\"\n",
    "        return tuple(concatv(self.index.names, self.columns))\n",
    "\n",
    "    def pipes(self, function_or_attribute):\n",
    "        \"\"\"Do a thing with a dataframe.\"\"\"\n",
    "        df = self\n",
    "        \n",
    "        if callable(function_or_attribute):\n",
    "            return AttributeObject(\n",
    "                function_or_attribute, \n",
    "            )\n",
    "        \n",
    "        # Try each of the extensions in order.\n",
    "        for ext in self.extensions:\n",
    "            ext = self.env.extensions[ext]\n",
    "            try:\n",
    "                result = df.pipe(ext.pipe, function_or_attribute)\n",
    "                if result is None:\n",
    "                    continue\n",
    "                if isinstance(result, pandas.DataFrame):\n",
    "                    result = result.pipe(df.__finalize__)\n",
    "                return result\n",
    "            except (AttributeError, KeyError): pass\n",
    "            \n",
    "        raise AttributeError(\"\"\"There is an error.\"\"\")\n",
    "\n",
    "    def __getattr__(self, attr):\n",
    "        # Try to do the dataframe things first.\n",
    "        try:\n",
    "            value = super().__getattr__(attr)\n",
    "            if isinstance(value, pandas.DataFrame):\n",
    "                value = value.pipe(self.__class__)\n",
    "            return value\n",
    "        except AttributeError as e:\n",
    "            pandas_error = e\n",
    "            pass\n",
    "                    \n",
    "        super().__getattribute__(\n",
    "            first(self._get_param_names())\n",
    "        )\n",
    "\n",
    "        # If it ain't a dataframe thing then \n",
    "        # try each of the extensions.\n",
    "        try:\n",
    "            return self.pipe(self.env.pipes, attr)\n",
    "        except:\n",
    "            return super().__getattr__(attr)\n",
    "    \n",
    "    def __dir__(self):\n",
    "        \"\"\"Extend the completer.\"\"\"\n",
    "        return list(\n",
    "            concatv(\n",
    "                super().__dir__(), dir(self.estimator), concat(\n",
    "                    map(dir, self.env.extensions.values())\n",
    "                )\n",
    "            )\n",
    "        )\n",
    "\n",
    "    @property\n",
    "    def Index(self):\n",
    "        return self.index.get_level_values"
   ]
  },
  {
   "cell_type": "code",
   "execution_count": 2,
   "metadata": {
    "collapsed": true
   },
   "outputs": [],
   "source": [
    "import bokeh.charts"
   ]
  },
  {
   "cell_type": "code",
   "execution_count": 6,
   "metadata": {
    "collapsed": false
   },
   "outputs": [
    {
     "ename": "NameError",
     "evalue": "name 'HarnessMixins' is not defined",
     "output_type": "error",
     "traceback": [
      "\u001b[0;31m---------------------------------------------------------------------------\u001b[0m",
      "\u001b[0;31mNameError\u001b[0m                                 Traceback (most recent call last)",
      "\u001b[0;32m<ipython-input-6-42d239e5ff94>\u001b[0m in \u001b[0;36m<module>\u001b[0;34m()\u001b[0m\n\u001b[0;32m----> 1\u001b[0;31m \u001b[0;32mclass\u001b[0m \u001b[0mHarness\u001b[0m\u001b[0;34m(\u001b[0m\u001b[0mHarnessMixins\u001b[0m\u001b[0;34m)\u001b[0m\u001b[0;34m:\u001b[0m\u001b[0;34m\u001b[0m\u001b[0m\n\u001b[0m\u001b[1;32m      2\u001b[0m \u001b[0;34m\u001b[0m\u001b[0m\n\u001b[1;32m      3\u001b[0m     \u001b[0;31m# Make ScikitLearn ignore some stuff\u001b[0m\u001b[0;34m\u001b[0m\u001b[0;34m\u001b[0m\u001b[0m\n\u001b[1;32m      4\u001b[0m     \u001b[0m_blacklist\u001b[0m \u001b[0;34m=\u001b[0m \u001b[0;34m[\u001b[0m\u001b[0;34m'data'\u001b[0m\u001b[0;34m,\u001b[0m \u001b[0;34m'index'\u001b[0m\u001b[0;34m,\u001b[0m \u001b[0;34m'columns'\u001b[0m\u001b[0;34m,\u001b[0m \u001b[0;34m'copy'\u001b[0m\u001b[0;34m]\u001b[0m\u001b[0;34m\u001b[0m\u001b[0m\n\u001b[1;32m      5\u001b[0m \u001b[0;34m\u001b[0m\u001b[0m\n",
      "\u001b[0;31mNameError\u001b[0m: name 'HarnessMixins' is not defined"
     ]
    }
   ],
   "source": [
    "class Harness(HarnessMixins):\n",
    "    \n",
    "    # Make ScikitLearn ignore some stuff\n",
    "    _blacklist = ['data', 'index', 'columns', 'copy']\n",
    "    \n",
    "    env = HarnessEnvironment(loader=jinja2.ChoiceLoader([\n",
    "                jinja2.DictLoader({}),\n",
    "            ]))\n",
    "    \n",
    "    env.filters.update(vars(operator))\n",
    "    env.filters.update(vars(builtins))\n",
    "\n",
    "    def __init__(\n",
    "        self, data=None,\n",
    "        index=None, columns=None,\n",
    "        estimator=None,\n",
    "        parent=None, feature_level=None,\n",
    "        copy=False,\n",
    "        extensions=[\n",
    "            'harness.ext.base.JinjaExtension',\n",
    "            'harness.ext.SciKit.SciKitExtension', \n",
    "            'harness.ext.Bokeh.BokehModelsExtension',     \n",
    "            'harness.ext.Bokeh.BokehPlottingExtension',\n",
    "            'harness.ext.Bokeh.BokehChartsExtension'\n",
    "        ],\n",
    "    ):\n",
    "        kwargs = dict(\n",
    "            estimator=estimator,\n",
    "            parent=parent,\n",
    "            feature_level=feature_level,\n",
    "            extensions=extensions,\n",
    "        )\n",
    "        \n",
    "        \n",
    "            \n",
    "        self.set_params(**kwargs)\n",
    "        \n",
    "        for ext in self.extensions:\n",
    "            if not ext in self.env.extensions:\n",
    "                self.env.add_extension(ext)\n",
    "            ext = self.env.extensions[ext]\n",
    "            if (\n",
    "                not(ext.mixin is None) \n",
    "                and \n",
    "                not(ext.mixin in self.__class__.__bases__)\n",
    "            ):\n",
    "                self.__class__.__bases__ += (ext.mixin,)\n",
    "                    \n",
    "        kwargs = pipe(\n",
    "            locals(), keyfilter(\n",
    "                partial(operator.contains, self._blacklist)\n",
    "            ), valfilter(complement(lambda x: x is None))\n",
    "        )\n",
    "        \n",
    "        super().__init__(**kwargs)\n",
    "\n",
    "    def __finalize__(self, other=None, method=None,):\n",
    "        \"\"\"__finalize__ must be at the __class__ level.\"\"\"\n",
    "\n",
    "        if method == 'merge': other = other.left\n",
    "        if method == 'concat': other = other.objs[0]\n",
    "\n",
    "        self.set_params(**other.get_params(deep=False))\n",
    "\n",
    "        return self\n",
    "\n",
    "    @classmethod\n",
    "    def _get_param_names(cls):\n",
    "        \"\"\"Ignore the parameters that are specific to the dataframe.\"\"\"\n",
    "        return pipe(\n",
    "            super()._get_param_names(), filter(\n",
    "                complement(partial(operator.contains, cls._blacklist))\n",
    "            ), list\n",
    "\n",
    "\n",
    "        )\n",
    "    \n",
    "    def do(self, func, *args, **kwargs):\n",
    "        return self.pipe(do(func), *args, **kwargs)"
   ]
  },
  {
   "cell_type": "code",
   "execution_count": null,
   "metadata": {
    "collapsed": true
   },
   "outputs": [],
   "source": []
  }
 ],
 "metadata": {
  "anaconda-cloud": {
   "environment": null,
   "url": "https://anaconda.org/tonyfast/harnly"
  },
  "kernelspec": {
   "display_name": "Python [default]",
   "language": "python",
   "name": "python3"
  },
  "language_info": {
   "codemirror_mode": {
    "name": "ipython",
    "version": 3
   },
   "file_extension": ".py",
   "mimetype": "text/x-python",
   "name": "python",
   "nbconvert_exporter": "python",
   "pygments_lexer": "ipython3",
   "version": "3.5.2"
  }
 },
 "nbformat": 4,
 "nbformat_minor": 1
}
