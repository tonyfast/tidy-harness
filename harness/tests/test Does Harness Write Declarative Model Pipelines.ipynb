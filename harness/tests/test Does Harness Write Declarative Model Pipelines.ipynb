{
 "cells": [
  {
   "cell_type": "code",
   "execution_count": 1,
   "metadata": {
    "collapsed": false
   },
   "outputs": [],
   "source": [
    "from harness import Harness\n",
    "\n",
    "import sklearn.datasets\n",
    "import sklearn.discriminant_analysis\n",
    "import sklearn.mixture\n",
    "import sklearn.model_selection\n",
    "\n",
    "from pandas import ( \n",
    "    CategoricalIndex, DataFrame, Index, Series\n",
    ")\n",
    "\n",
    "from IPython.display import (\n",
    "    Markdown,\n",
    ")\n"
   ]
  },
  {
   "cell_type": "code",
   "execution_count": 2,
   "metadata": {
    "collapsed": true
   },
   "outputs": [],
   "source": [
    "\"\"\"Can I load the iris data\"\"\"\n",
    "iris = sklearn.datasets.load_iris()"
   ]
  },
  {
   "cell_type": "code",
   "execution_count": 3,
   "metadata": {
    "collapsed": false
   },
   "outputs": [
    {
     "data": {
      "text/html": [
       "<div>\n",
       "<table border=\"1\" class=\"dataframe\">\n",
       "  <thead>\n",
       "    <tr style=\"text-align: right;\">\n",
       "      <th></th>\n",
       "      <th></th>\n",
       "      <th></th>\n",
       "      <th>sepal length (cm)</th>\n",
       "      <th>sepal width (cm)</th>\n",
       "      <th>petal length (cm)</th>\n",
       "      <th>petal width (cm)</th>\n",
       "    </tr>\n",
       "    <tr>\n",
       "      <th>target</th>\n",
       "      <th>target_name</th>\n",
       "      <th>color</th>\n",
       "      <th></th>\n",
       "      <th></th>\n",
       "      <th></th>\n",
       "      <th></th>\n",
       "    </tr>\n",
       "  </thead>\n",
       "  <tbody>\n",
       "    <tr>\n",
       "      <th rowspan=\"4\" valign=\"top\">2</th>\n",
       "      <th rowspan=\"4\" valign=\"top\">virginica</th>\n",
       "      <th>blue</th>\n",
       "      <td>6.4</td>\n",
       "      <td>2.8</td>\n",
       "      <td>5.6</td>\n",
       "      <td>2.1</td>\n",
       "    </tr>\n",
       "    <tr>\n",
       "      <th>blue</th>\n",
       "      <td>6.9</td>\n",
       "      <td>3.2</td>\n",
       "      <td>5.7</td>\n",
       "      <td>2.3</td>\n",
       "    </tr>\n",
       "    <tr>\n",
       "      <th>blue</th>\n",
       "      <td>6.7</td>\n",
       "      <td>3.3</td>\n",
       "      <td>5.7</td>\n",
       "      <td>2.5</td>\n",
       "    </tr>\n",
       "    <tr>\n",
       "      <th>blue</th>\n",
       "      <td>5.7</td>\n",
       "      <td>2.5</td>\n",
       "      <td>5.0</td>\n",
       "      <td>2.0</td>\n",
       "    </tr>\n",
       "    <tr>\n",
       "      <th>0</th>\n",
       "      <th>setosa</th>\n",
       "      <th>red</th>\n",
       "      <td>5.4</td>\n",
       "      <td>3.9</td>\n",
       "      <td>1.3</td>\n",
       "      <td>0.4</td>\n",
       "    </tr>\n",
       "  </tbody>\n",
       "</table>\n",
       "</div>"
      ],
      "text/plain": [
       "                          sepal length (cm)  sepal width (cm)  \\\n",
       "target target_name color                                        \n",
       "2      virginica   blue                 6.4               2.8   \n",
       "                   blue                 6.9               3.2   \n",
       "                   blue                 6.7               3.3   \n",
       "                   blue                 5.7               2.5   \n",
       "0      setosa      red                  5.4               3.9   \n",
       "\n",
       "                          petal length (cm)  petal width (cm)  \n",
       "target target_name color                                       \n",
       "2      virginica   blue                 5.6               2.1  \n",
       "                   blue                 5.7               2.3  \n",
       "                   blue                 5.7               2.5  \n",
       "                   blue                 5.0               2.0  \n",
       "0      setosa      red                  1.3               0.4  "
      ]
     },
     "execution_count": 3,
     "metadata": {},
     "output_type": "execute_result"
    }
   ],
   "source": [
    "\"\"\"Can I initialize a Harness DataFrame\"\"\"\n",
    "df = Harness(\n",
    "    data=iris['data'], \n",
    "    index=CategoricalIndex(iris['target']).rename('target'),\n",
    "    columns=iris['feature_names'],\n",
    "    estimator=sklearn.discriminant_analysis.LinearDiscriminantAnalysis(),\n",
    "    feature_level='target',\n",
    ")\n",
    "\n",
    "df = df.set_index(\n",
    "    df.index\n",
    "    .rename_categories(iris['target_names'])\n",
    "    .rename('target_name'), append=True\n",
    ").set_index(\n",
    "    df\n",
    "    .index.rename_categories(['red', 'green', 'blue'])\n",
    "    .rename('color'), append=True\n",
    ")\n",
    "\n",
    "df.sample(5)"
   ]
  },
  {
   "cell_type": "code",
   "execution_count": 4,
   "metadata": {
    "collapsed": false
   },
   "outputs": [
    {
     "data": {
      "text/html": [
       "<div>\n",
       "<table border=\"1\" class=\"dataframe\">\n",
       "  <thead>\n",
       "    <tr style=\"text-align: right;\">\n",
       "      <th></th>\n",
       "      <th></th>\n",
       "      <th></th>\n",
       "      <th>sepal length (cm)</th>\n",
       "      <th>sepal width (cm)</th>\n",
       "      <th>petal length (cm)</th>\n",
       "      <th>petal width (cm)</th>\n",
       "    </tr>\n",
       "    <tr>\n",
       "      <th>target_name</th>\n",
       "      <th>color</th>\n",
       "      <th>target</th>\n",
       "      <th></th>\n",
       "      <th></th>\n",
       "      <th></th>\n",
       "      <th></th>\n",
       "    </tr>\n",
       "  </thead>\n",
       "  <tbody>\n",
       "    <tr>\n",
       "      <th rowspan=\"2\" valign=\"top\">setosa</th>\n",
       "      <th rowspan=\"2\" valign=\"top\">red</th>\n",
       "      <th>0</th>\n",
       "      <td>4.7</td>\n",
       "      <td>3.2</td>\n",
       "      <td>1.6</td>\n",
       "      <td>0.2</td>\n",
       "    </tr>\n",
       "    <tr>\n",
       "      <th>0</th>\n",
       "      <td>5.0</td>\n",
       "      <td>3.3</td>\n",
       "      <td>1.4</td>\n",
       "      <td>0.2</td>\n",
       "    </tr>\n",
       "    <tr>\n",
       "      <th rowspan=\"2\" valign=\"top\">versicolor</th>\n",
       "      <th rowspan=\"2\" valign=\"top\">green</th>\n",
       "      <th>1</th>\n",
       "      <td>6.7</td>\n",
       "      <td>3.0</td>\n",
       "      <td>5.0</td>\n",
       "      <td>1.7</td>\n",
       "    </tr>\n",
       "    <tr>\n",
       "      <th>1</th>\n",
       "      <td>5.7</td>\n",
       "      <td>2.9</td>\n",
       "      <td>4.2</td>\n",
       "      <td>1.3</td>\n",
       "    </tr>\n",
       "    <tr>\n",
       "      <th>virginica</th>\n",
       "      <th>blue</th>\n",
       "      <th>2</th>\n",
       "      <td>6.9</td>\n",
       "      <td>3.1</td>\n",
       "      <td>5.4</td>\n",
       "      <td>2.1</td>\n",
       "    </tr>\n",
       "  </tbody>\n",
       "</table>\n",
       "</div>"
      ],
      "text/plain": [
       "                          sepal length (cm)  sepal width (cm)  \\\n",
       "target_name color target                                        \n",
       "setosa      red   0                     4.7               3.2   \n",
       "                  0                     5.0               3.3   \n",
       "versicolor  green 1                     6.7               3.0   \n",
       "                  1                     5.7               2.9   \n",
       "virginica   blue  2                     6.9               3.1   \n",
       "\n",
       "                          petal length (cm)  petal width (cm)  \n",
       "target_name color target                                       \n",
       "setosa      red   0                     1.6               0.2  \n",
       "                  0                     1.4               0.2  \n",
       "versicolor  green 1                     5.0               1.7  \n",
       "                  1                     4.2               1.3  \n",
       "virginica   blue  2                     5.4               2.1  "
      ]
     },
     "execution_count": 4,
     "metadata": {},
     "output_type": "execute_result"
    }
   ],
   "source": [
    "test_train = next(\n",
    "    sklearn.model_selection\n",
    "    .StratifiedKFold(n_splits=2)\n",
    "    .split(df.values, df.Index('target'))\n",
    ")\n",
    "\n",
    "split = DataFrame(index=df.index, columns=['split'])\n",
    "split.iloc[test_train[0]], split.iloc[test_train[1]] = 'train', 'test'\n",
    "df = df.set_index(split.set_index('split', append=True).swaplevel(-1,0).index)\n",
    "\n",
    "df.ix['train'].fit().sample(5)"
   ]
  },
  {
   "cell_type": "code",
   "execution_count": 5,
   "metadata": {
    "collapsed": true
   },
   "outputs": [],
   "source": [
    "from sklearn.metrics import confusion_matrix"
   ]
  },
  {
   "cell_type": "code",
   "execution_count": 6,
   "metadata": {
    "collapsed": true
   },
   "outputs": [],
   "source": [
    "from sklearn import preprocessing, decomposition, discriminant_analysis"
   ]
  },
  {
   "cell_type": "code",
   "execution_count": 7,
   "metadata": {
    "collapsed": false
   },
   "outputs": [
    {
     "data": {
      "text/html": [
       "<div>\n",
       "<table border=\"1\" class=\"dataframe\">\n",
       "  <thead>\n",
       "    <tr style=\"text-align: right;\">\n",
       "      <th></th>\n",
       "      <th></th>\n",
       "      <th></th>\n",
       "      <th>0</th>\n",
       "      <th>1</th>\n",
       "      <th>2</th>\n",
       "      <th>3</th>\n",
       "    </tr>\n",
       "    <tr>\n",
       "      <th>target_name</th>\n",
       "      <th>color</th>\n",
       "      <th>target</th>\n",
       "      <th></th>\n",
       "      <th></th>\n",
       "      <th></th>\n",
       "      <th></th>\n",
       "    </tr>\n",
       "  </thead>\n",
       "  <tbody>\n",
       "    <tr>\n",
       "      <th>setosa</th>\n",
       "      <th>red</th>\n",
       "      <th>0</th>\n",
       "      <td>1.436901</td>\n",
       "      <td>-0.033947</td>\n",
       "      <td>-0.002798</td>\n",
       "      <td>-0.055323</td>\n",
       "    </tr>\n",
       "    <tr>\n",
       "      <th>virginica</th>\n",
       "      <th>blue</th>\n",
       "      <th>2</th>\n",
       "      <td>-1.228911</td>\n",
       "      <td>-0.415372</td>\n",
       "      <td>-0.009152</td>\n",
       "      <td>-0.112343</td>\n",
       "    </tr>\n",
       "  </tbody>\n",
       "</table>\n",
       "</div>"
      ],
      "text/plain": [
       "                                 0         1         2         3\n",
       "target_name color target                                        \n",
       "setosa      red   0       1.436901 -0.033947 -0.002798 -0.055323\n",
       "virginica   blue  2      -1.228911 -0.415372 -0.009152 -0.112343"
      ]
     },
     "execution_count": 7,
     "metadata": {},
     "output_type": "execute_result"
    }
   ],
   "source": [
    "df = (\n",
    "    df\n",
    "    .set_params(estimator=preprocessing.RobustScaler())\n",
    "    .fit_transform()\n",
    "    .set_params(estimator=decomposition.PCA())\n",
    "    .fit_transform()\n",
    "    .set_params(estimator=discriminant_analysis.LinearDiscriminantAnalysis())\n",
    ")\n",
    "df.ix['train'].fit().sample(2)"
   ]
  },
  {
   "cell_type": "code",
   "execution_count": 8,
   "metadata": {
    "collapsed": false
   },
   "outputs": [
    {
     "data": {
      "text/html": [
       "<div>\n",
       "<table border=\"1\" class=\"dataframe\">\n",
       "  <thead>\n",
       "    <tr style=\"text-align: right;\">\n",
       "      <th></th>\n",
       "      <th></th>\n",
       "      <th></th>\n",
       "      <th></th>\n",
       "      <th></th>\n",
       "      <th>0</th>\n",
       "      <th>1</th>\n",
       "    </tr>\n",
       "    <tr>\n",
       "      <th>split</th>\n",
       "      <th>target_name</th>\n",
       "      <th>color</th>\n",
       "      <th>target</th>\n",
       "      <th>prediction</th>\n",
       "      <th></th>\n",
       "      <th></th>\n",
       "    </tr>\n",
       "  </thead>\n",
       "  <tbody>\n",
       "    <tr>\n",
       "      <th>test</th>\n",
       "      <th>versicolor</th>\n",
       "      <th>green</th>\n",
       "      <th>1</th>\n",
       "      <th>1</th>\n",
       "      <td>-1.184620</td>\n",
       "      <td>-1.742177</td>\n",
       "    </tr>\n",
       "    <tr>\n",
       "      <th>train</th>\n",
       "      <th>setosa</th>\n",
       "      <th>red</th>\n",
       "      <th>0</th>\n",
       "      <th>0</th>\n",
       "      <td>7.017018</td>\n",
       "      <td>0.623815</td>\n",
       "    </tr>\n",
       "  </tbody>\n",
       "</table>\n",
       "</div>"
      ],
      "text/plain": [
       "                                                  0         1\n",
       "split target_name color target prediction                    \n",
       "test  versicolor  green 1      1          -1.184620 -1.742177\n",
       "train setosa      red   0      0           7.017018  0.623815"
      ]
     },
     "execution_count": 8,
     "metadata": {},
     "output_type": "execute_result"
    }
   ],
   "source": [
    "(\n",
    "    df\n",
    "    .transform()\n",
    "    .set_index(\n",
    "        CategoricalIndex(df.predict()[0], name='prediction'), append=True\n",
    "    )\n",
    "    .sample(2)\n",
    ")"
   ]
  },
  {
   "cell_type": "code",
   "execution_count": 9,
   "metadata": {
    "collapsed": false
   },
   "outputs": [
    {
     "data": {
      "text/plain": [
       "0.97333333333333338"
      ]
     },
     "execution_count": 9,
     "metadata": {},
     "output_type": "execute_result"
    }
   ],
   "source": [
    "df.ix['train'].score()"
   ]
  },
  {
   "cell_type": "code",
   "execution_count": 10,
   "metadata": {
    "collapsed": false
   },
   "outputs": [],
   "source": [
    "df.add_template(\n",
    "scoreboard=\"\"\"\n",
    "The table presents some information about the `{{\n",
    "    df.estimator.__str__().split('(',1)[0]\n",
    "}}` model applied to the `iris` dataset.\n",
    "\n",
    "|         |           Test          |           Training       |\n",
    "|---------|-------------------------|--------------------------|\n",
    "| Score   |{{df.ix['test'].score()}}|{{df.ix['train'].score()}}|\n",
    "| Samples | {{df.ix['test'] | len}} | {{df.ix['train'] | len}} |\n",
    "\"\"\"\n",
    ");"
   ]
  },
  {
   "cell_type": "code",
   "execution_count": 11,
   "metadata": {
    "collapsed": false
   },
   "outputs": [
    {
     "data": {
      "text/markdown": [
       "\n",
       "The table presents some information about the `LinearDiscriminantAnalysis` model applied to the `iris` dataset.\n",
       "\n",
       "|         |           Test          |           Training       |\n",
       "|---------|-------------------------|--------------------------|\n",
       "| Score   |0.986666666667|0.973333333333|\n",
       "| Samples | 75 | 75 |"
      ],
      "text/plain": [
       "<IPython.core.display.Markdown object>"
      ]
     },
     "execution_count": 11,
     "metadata": {},
     "output_type": "execute_result"
    }
   ],
   "source": [
    "Markdown(df.get_template('scoreboard'))"
   ]
  },
  {
   "cell_type": "code",
   "execution_count": 12,
   "metadata": {
    "collapsed": false
   },
   "outputs": [
    {
     "data": {
      "text/html": [
       "<div>\n",
       "<table border=\"1\" class=\"dataframe\">\n",
       "  <thead>\n",
       "    <tr style=\"text-align: right;\">\n",
       "      <th></th>\n",
       "      <th></th>\n",
       "      <th></th>\n",
       "      <th></th>\n",
       "      <th>0</th>\n",
       "      <th>1</th>\n",
       "    </tr>\n",
       "    <tr>\n",
       "      <th>split</th>\n",
       "      <th>target_name</th>\n",
       "      <th>color</th>\n",
       "      <th>target</th>\n",
       "      <th></th>\n",
       "      <th></th>\n",
       "    </tr>\n",
       "  </thead>\n",
       "  <tbody>\n",
       "    <tr>\n",
       "      <th rowspan=\"2\" valign=\"top\">train</th>\n",
       "      <th>virginica</th>\n",
       "      <th>blue</th>\n",
       "      <th>2</th>\n",
       "      <td>-5.364102</td>\n",
       "      <td>-0.009331</td>\n",
       "    </tr>\n",
       "    <tr>\n",
       "      <th>setosa</th>\n",
       "      <th>red</th>\n",
       "      <th>0</th>\n",
       "      <td>7.341003</td>\n",
       "      <td>-0.791289</td>\n",
       "    </tr>\n",
       "  </tbody>\n",
       "</table>\n",
       "</div>"
      ],
      "text/plain": [
       "                                       0         1\n",
       "split target_name color target                    \n",
       "train virginica   blue  2      -5.364102 -0.009331\n",
       "      setosa      red   0       7.341003 -0.791289"
      ]
     },
     "execution_count": 12,
     "metadata": {},
     "output_type": "execute_result"
    }
   ],
   "source": [
    "transformed = df.transform()\n",
    "transformed.sample(2)"
   ]
  },
  {
   "cell_type": "code",
   "execution_count": 13,
   "metadata": {
    "collapsed": false
   },
   "outputs": [],
   "source": [
    "with transformed.reset_index().DataSource(\n",
    "    x=0, y=1, fill_color='color', text='target_name'\n",
    ") as source:\n",
    "    source.Scatter(color='text', marker='split')\n",
    "    source.save()"
   ]
  }
 ],
 "metadata": {
  "anaconda-cloud": {},
  "kernelspec": {
   "display_name": "Python [default]",
   "language": "python",
   "name": "python3"
  },
  "language_info": {
   "codemirror_mode": {
    "name": "ipython",
    "version": 3
   },
   "file_extension": ".py",
   "mimetype": "text/x-python",
   "name": "python",
   "nbconvert_exporter": "python",
   "pygments_lexer": "ipython3",
   "version": "3.5.2"
  }
 },
 "nbformat": 4,
 "nbformat_minor": 1
}
