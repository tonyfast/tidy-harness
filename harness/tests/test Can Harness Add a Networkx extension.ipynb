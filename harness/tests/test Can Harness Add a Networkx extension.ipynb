{
 "cells": [
  {
   "cell_type": "code",
   "execution_count": 1,
   "metadata": {
    "collapsed": false
   },
   "outputs": [],
   "source": [
    "from harness import Harness\n",
    "import pandas\n",
    "from harness.src.ext import HarnessExtension"
   ]
  },
  {
   "cell_type": "code",
   "execution_count": 2,
   "metadata": {
    "collapsed": false
   },
   "outputs": [],
   "source": [
    "class NetworkXMixin:\n",
    "    graph = None\n",
    "\n",
    "class NetworkXExtension(HarnessExtension):\n",
    "    imports = 'networkx'\n",
    "    mixin = NetworkXMixin\n",
    "    \n",
    "    def keywords(self, dataframe):\n",
    "        return {\n",
    "            'G': lambda: dataframe.graph,\n",
    "            'df': lambda: dataframe,\n",
    "        }\n",
    "    \n",
    "    def to_graph(self, source, target, edge_attr=True, df=None):\n",
    "        df.graph = self.module_.from_pandas_dataframe(\n",
    "            df, source, target, edge_attr\n",
    "        )\n",
    "        return df.graph\n",
    "    \n",
    "    def callback(self, dataframe, value):\n",
    "        if isinstance(value, self.module_.Graph):\n",
    "            return dataframe\n",
    "        return value\n",
    "    \n",
    "    def edges(self, df):\n",
    "        return df.graph.edges()\n",
    "    \n",
    "    def nodes(self, df):\n",
    "        return df.graph.nodes()\n",
    "        "
   ]
  },
  {
   "cell_type": "code",
   "execution_count": 3,
   "metadata": {
    "collapsed": false
   },
   "outputs": [],
   "source": [
    "extensions = [\n",
    "    'harness.src.ext.base.JinjaExtension',\n",
    "    'harness.src.ext.SciKit.SciKitExtension', \n",
    "    'harness.src.ext.Bokeh.BokehModelsExtension',     \n",
    "    'harness.src.ext.Bokeh.BokehPlottingExtension',\n",
    "    'harness.src.ext.Bokeh.BokehChartsExtension',\n",
    "    '__main__.NetworkXExtension'\n",
    "]"
   ]
  },
  {
   "cell_type": "code",
   "execution_count": 4,
   "metadata": {
    "collapsed": false
   },
   "outputs": [],
   "source": [
    "df = Harness(pandas.np.random.randn(10,2), extensions=extensions)"
   ]
  },
  {
   "cell_type": "code",
   "execution_count": 5,
   "metadata": {
    "collapsed": false
   },
   "outputs": [
    {
     "data": {
      "text/html": [
       "<div>\n",
       "<table border=\"1\" class=\"dataframe\">\n",
       "  <thead>\n",
       "    <tr style=\"text-align: right;\">\n",
       "      <th></th>\n",
       "      <th>0</th>\n",
       "      <th>1</th>\n",
       "    </tr>\n",
       "  </thead>\n",
       "  <tbody>\n",
       "    <tr>\n",
       "      <th>0</th>\n",
       "      <td>0.262719</td>\n",
       "      <td>0.142424</td>\n",
       "    </tr>\n",
       "    <tr>\n",
       "      <th>1</th>\n",
       "      <td>1.906538</td>\n",
       "      <td>0.313548</td>\n",
       "    </tr>\n",
       "    <tr>\n",
       "      <th>2</th>\n",
       "      <td>-1.412924</td>\n",
       "      <td>0.083226</td>\n",
       "    </tr>\n",
       "    <tr>\n",
       "      <th>3</th>\n",
       "      <td>0.069884</td>\n",
       "      <td>0.808722</td>\n",
       "    </tr>\n",
       "    <tr>\n",
       "      <th>4</th>\n",
       "      <td>0.296638</td>\n",
       "      <td>-1.559842</td>\n",
       "    </tr>\n",
       "    <tr>\n",
       "      <th>5</th>\n",
       "      <td>-0.642406</td>\n",
       "      <td>-0.827045</td>\n",
       "    </tr>\n",
       "    <tr>\n",
       "      <th>6</th>\n",
       "      <td>-0.194634</td>\n",
       "      <td>-0.956885</td>\n",
       "    </tr>\n",
       "    <tr>\n",
       "      <th>7</th>\n",
       "      <td>0.287513</td>\n",
       "      <td>-1.518930</td>\n",
       "    </tr>\n",
       "    <tr>\n",
       "      <th>8</th>\n",
       "      <td>0.442937</td>\n",
       "      <td>2.182230</td>\n",
       "    </tr>\n",
       "    <tr>\n",
       "      <th>9</th>\n",
       "      <td>1.599429</td>\n",
       "      <td>-0.651656</td>\n",
       "    </tr>\n",
       "  </tbody>\n",
       "</table>\n",
       "</div>"
      ],
      "text/plain": [
       "          0         1\n",
       "0  0.262719  0.142424\n",
       "1  1.906538  0.313548\n",
       "2 -1.412924  0.083226\n",
       "3  0.069884  0.808722\n",
       "4  0.296638 -1.559842\n",
       "5 -0.642406 -0.827045\n",
       "6 -0.194634 -0.956885\n",
       "7  0.287513 -1.518930\n",
       "8  0.442937  2.182230\n",
       "9  1.599429 -0.651656"
      ]
     },
     "execution_count": 5,
     "metadata": {},
     "output_type": "execute_result"
    }
   ],
   "source": [
    "df.to_graph(source=0, target=1)"
   ]
  },
  {
   "cell_type": "code",
   "execution_count": 6,
   "metadata": {
    "collapsed": false
   },
   "outputs": [
    {
     "data": {
      "text/plain": [
       "[(0.26271864492473435, 0.14242411441040642),\n",
       " (2.1822297749720079, 0.44293657384872798),\n",
       " (-0.6424058544791782, -0.82704452948463369),\n",
       " (1.9065375167420866, 0.31354805421821214),\n",
       " (-0.6516563008313746, 1.5994293071048624),\n",
       " (0.069883829740258335, 0.80872234641815044),\n",
       " (0.083226321722203067, -1.4129238720161235),\n",
       " (-1.5189297211588804, 0.28751288146415188),\n",
       " (-0.1946337038779988, -0.9568854314221783),\n",
       " (0.29663812411864177, -1.5598419499281788)]"
      ]
     },
     "execution_count": 6,
     "metadata": {},
     "output_type": "execute_result"
    }
   ],
   "source": [
    "df.to_graph(0, 1).edges()"
   ]
  },
  {
   "cell_type": "code",
   "execution_count": 7,
   "metadata": {
    "collapsed": false
   },
   "outputs": [
    {
     "data": {
      "text/plain": [
       "[(0.26271864492473435, 0.14242411441040642),\n",
       " (2.1822297749720079, 0.44293657384872798),\n",
       " (-0.6424058544791782, -0.82704452948463369),\n",
       " (1.9065375167420866, 0.31354805421821214),\n",
       " (-0.6516563008313746, 1.5994293071048624),\n",
       " (0.069883829740258335, 0.80872234641815044),\n",
       " (0.083226321722203067, -1.4129238720161235),\n",
       " (-1.5189297211588804, 0.28751288146415188),\n",
       " (-0.1946337038779988, -0.9568854314221783),\n",
       " (0.29663812411864177, -1.5598419499281788)]"
      ]
     },
     "execution_count": 7,
     "metadata": {},
     "output_type": "execute_result"
    }
   ],
   "source": [
    "df.edges()"
   ]
  },
  {
   "cell_type": "code",
   "execution_count": 8,
   "metadata": {
    "collapsed": false
   },
   "outputs": [
    {
     "data": {
      "text/html": [
       "<div>\n",
       "<table border=\"1\" class=\"dataframe\">\n",
       "  <thead>\n",
       "    <tr style=\"text-align: right;\">\n",
       "      <th></th>\n",
       "      <th>0</th>\n",
       "      <th>1</th>\n",
       "    </tr>\n",
       "  </thead>\n",
       "  <tbody>\n",
       "    <tr>\n",
       "      <th>-0.642406</th>\n",
       "      <td>0.373152</td>\n",
       "      <td>0.990995</td>\n",
       "    </tr>\n",
       "    <tr>\n",
       "      <th>-1.559842</th>\n",
       "      <td>0.273079</td>\n",
       "      <td>0.058690</td>\n",
       "    </tr>\n",
       "  </tbody>\n",
       "</table>\n",
       "</div>"
      ],
      "text/plain": [
       "                  0         1\n",
       "-0.642406  0.373152  0.990995\n",
       "-1.559842  0.273079  0.058690"
      ]
     },
     "execution_count": 8,
     "metadata": {},
     "output_type": "execute_result"
    }
   ],
   "source": [
    "Harness(df.spring_layout()).transpose().sample(2)"
   ]
  },
  {
   "cell_type": "code",
   "execution_count": 9,
   "metadata": {
    "collapsed": false
   },
   "outputs": [
    {
     "data": {
      "image/png": "[encoded data removed]",
      "text/plain": [
       "<matplotlib.figure.Figure at 0x11d5b0ef0>"
      ]
     },
     "metadata": {},
     "output_type": "display_data"
    }
   ],
   "source": [
    "%matplotlib inline\n",
    "df.draw_circular()"
   ]
  },
  {
   "cell_type": "code",
   "execution_count": 10,
   "metadata": {
    "collapsed": true
   },
   "outputs": [],
   "source": []
  }
 ],
 "metadata": {
  "anaconda-cloud": {},
  "kernelspec": {
   "display_name": "Python [default]",
   "language": "python",
   "name": "python3"
  },
  "language_info": {
   "codemirror_mode": {
    "name": "ipython",
    "version": 3
   },
   "file_extension": ".py",
   "mimetype": "text/x-python",
   "name": "python",
   "nbconvert_exporter": "python",
   "pygments_lexer": "ipython3",
   "version": "3.5.2"
  }
 },
 "nbformat": 4,
 "nbformat_minor": 1
}
