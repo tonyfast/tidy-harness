{
 "cells": [
  {
   "cell_type": "markdown",
   "metadata": {},
   "source": [
    "A jinja extension for the harness"
   ]
  },
  {
   "cell_type": "code",
   "execution_count": 9,
   "metadata": {
    "collapsed": false
   },
   "outputs": [],
   "source": [
    "try:\n",
    "    from .base import HarnessExtension\n",
    "except:\n",
    "    from harness.python.base import HarnessExtension\n",
    "\n",
    "import pandas, sklearn.model_selection as model_selection\n",
    "from toolz.curried import first"
   ]
  },
  {
   "cell_type": "code",
   "execution_count": 10,
   "metadata": {
    "collapsed": false
   },
   "outputs": [],
   "source": [
    "class SciKitExtension(HarnessExtension):\n",
    "    alias = 'sklearn'\n",
    "    def keywords(self, dataframe):\n",
    "        return {\n",
    "            'X': lambda: dataframe.values,\n",
    "            'y': lambda: \n",
    "            dataframe.index.get_level_values(dataframe.feature_level) \n",
    "            if dataframe.feature_level else None,\n",
    "        }\n",
    "    \n",
    "    def pipe(self, dataframe, attr):\n",
    "        self.module_ = dataframe.estimator\n",
    "        return super().pipe(dataframe, attr)\n",
    "    \n",
    "    def callback(self, dataframe, value):\n",
    "        if value is dataframe.estimator:\n",
    "            return dataframe\n",
    "        if isinstance(value, pandas.np.ndarray):\n",
    "            return dataframe.__class__(\n",
    "                value,\n",
    "                index=dataframe.index,\n",
    "                feature_level=dataframe.feature_level,\n",
    "            )\n",
    "        if isinstance(value, pandas.CategoricalIndex):\n",
    "            # new dataframe\n",
    "            value = dataframe.set_index(value, append=True)\n",
    "        \n",
    "            value.index = value.index.reorder_levels([-1, *range(\n",
    "                        len(dataframe.index.levels) if hasattr(dataframe.index, 'levels') else 1\n",
    "                    )])\n",
    "\n",
    "        return value"
   ]
  }
 ],
 "metadata": {
  "anaconda-cloud": {},
  "kernelspec": {
   "display_name": "Python [default]",
   "language": "python",
   "name": "python3"
  },
  "language_info": {
   "codemirror_mode": {
    "name": "ipython",
    "version": 3
   },
   "file_extension": ".py",
   "mimetype": "text/x-python",
   "name": "python",
   "nbconvert_exporter": "python",
   "pygments_lexer": "ipython3",
   "version": "3.5.2"
  }
 },
 "nbformat": 4,
 "nbformat_minor": 1
}
