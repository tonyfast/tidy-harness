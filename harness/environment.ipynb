{
 "cells": [
  {
   "cell_type": "markdown",
   "metadata": {},
   "source": [
    "A jinja extension for the harness"
   ]
  },
  {
   "cell_type": "code",
   "execution_count": 3,
   "metadata": {
    "collapsed": false
   },
   "outputs": [],
   "source": [
    "try: \n",
    "    from .base import AttributeObject \n",
    "except:\n",
    "    from python.base import AttributeObject\n",
    "\n",
    "import jinja2.ext\n",
    "__all__ = ['HarnessEnvironment']"
   ]
  },
  {
   "cell_type": "code",
   "execution_count": 119,
   "metadata": {
    "collapsed": true
   },
   "outputs": [],
   "source": [
    "class HarnessEnvironment(jinja2.Environment):\n",
    "    \"\"\"A jinja environment as the interface to extend the dataframe.\"\"\"\n",
    "    def pipes(self, dataframe, attr):\n",
    "        if callable(attr):\n",
    "            return AttributeObject(attr)\n",
    "            \n",
    "        for ext in dataframe.extensions:\n",
    "            value = dataframe.pipe(self.extensions[ext].pipe, attr)\n",
    "            if not(value is None): return value"
   ]
  }
 ],
 "metadata": {
  "anaconda-cloud": {},
  "kernelspec": {
   "display_name": "Python [default]",
   "language": "python",
   "name": "python3"
  },
  "language_info": {
   "codemirror_mode": {
    "name": "ipython",
    "version": 3
   },
   "file_extension": ".py",
   "mimetype": "text/x-python",
   "name": "python",
   "nbconvert_exporter": "python",
   "pygments_lexer": "ipython3",
   "version": "3.5.2"
  }
 },
 "nbformat": 4,
 "nbformat_minor": 1
}
