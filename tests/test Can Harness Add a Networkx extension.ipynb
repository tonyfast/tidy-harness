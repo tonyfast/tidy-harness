{
 "cells": [
  {
   "cell_type": "code",
   "execution_count": 1,
   "metadata": {
    "collapsed": false
   },
   "outputs": [],
   "source": [
    "from harness import Harness\n",
    "import pandas\n",
    "from harness.ext import HarnessExtension"
   ]
  },
  {
   "cell_type": "code",
   "execution_count": 2,
   "metadata": {
    "collapsed": false
   },
   "outputs": [],
   "source": [
    "\n",
    "\n",
    "class NetworkXMixin:\n",
    "    graph = None\n",
    "\n",
    "class NetworkXExtension(HarnessExtension):\n",
    "    imports = 'networkx'\n",
    "    mixin = NetworkXMixin\n",
    "    \n",
    "    def keywords(self, dataframe):\n",
    "        return {\n",
    "            'G': lambda: dataframe.graph,\n",
    "            'df': lambda: dataframe,\n",
    "        }\n",
    "    \n",
    "    def to_graph(self, source, target, edge_attr=True, df=None):\n",
    "        df.graph = self.module_.from_pandas_dataframe(\n",
    "            df, source, target, edge_attr\n",
    "        )\n",
    "        return df.graph\n",
    "    \n",
    "    def callback(self, dataframe, value):\n",
    "        if isinstance(value, self.module_.Graph):\n",
    "            return dataframe\n",
    "        return value\n",
    "    \n",
    "    def edges(self, df):\n",
    "        return df.graph.edges()\n",
    "    \n",
    "    def nodes(self, df):\n",
    "        return df.graph.nodes()\n",
    "        "
   ]
  },
  {
   "cell_type": "code",
   "execution_count": 3,
   "metadata": {
    "collapsed": false
   },
   "outputs": [],
   "source": [
    "extensions = [\n",
    "    'harness.ext.base.JinjaExtension',\n",
    "    'harness.ext.SciKit.SciKitExtension', \n",
    "    'harness.ext.Bokeh.BokehModelsExtension',     \n",
    "    'harness.ext.Bokeh.BokehPlottingExtension',\n",
    "    'harness.ext.Bokeh.BokehChartsExtension',\n",
    "    '__main__.NetworkXExtension'\n",
    "]"
   ]
  },
  {
   "cell_type": "code",
   "execution_count": 4,
   "metadata": {
    "collapsed": false
   },
   "outputs": [],
   "source": [
    "df = Harness(pandas.np.random.randn(10,2), extensions=extensions)"
   ]
  },
  {
   "cell_type": "code",
   "execution_count": 5,
   "metadata": {
    "collapsed": false
   },
   "outputs": [
    {
     "data": {
      "text/html": [
       "<div>\n",
       "<table border=\"1\" class=\"dataframe\">\n",
       "  <thead>\n",
       "    <tr style=\"text-align: right;\">\n",
       "      <th></th>\n",
       "      <th>0</th>\n",
       "      <th>1</th>\n",
       "    </tr>\n",
       "  </thead>\n",
       "  <tbody>\n",
       "    <tr>\n",
       "      <th>0</th>\n",
       "      <td>-0.762177</td>\n",
       "      <td>-0.485428</td>\n",
       "    </tr>\n",
       "    <tr>\n",
       "      <th>1</th>\n",
       "      <td>0.872217</td>\n",
       "      <td>-1.119764</td>\n",
       "    </tr>\n",
       "    <tr>\n",
       "      <th>2</th>\n",
       "      <td>-0.852261</td>\n",
       "      <td>-1.399184</td>\n",
       "    </tr>\n",
       "    <tr>\n",
       "      <th>3</th>\n",
       "      <td>0.804045</td>\n",
       "      <td>-1.257540</td>\n",
       "    </tr>\n",
       "    <tr>\n",
       "      <th>4</th>\n",
       "      <td>-0.498610</td>\n",
       "      <td>0.446014</td>\n",
       "    </tr>\n",
       "    <tr>\n",
       "      <th>5</th>\n",
       "      <td>0.040428</td>\n",
       "      <td>-0.567451</td>\n",
       "    </tr>\n",
       "    <tr>\n",
       "      <th>6</th>\n",
       "      <td>0.497482</td>\n",
       "      <td>0.157098</td>\n",
       "    </tr>\n",
       "    <tr>\n",
       "      <th>7</th>\n",
       "      <td>-0.972946</td>\n",
       "      <td>-1.196962</td>\n",
       "    </tr>\n",
       "    <tr>\n",
       "      <th>8</th>\n",
       "      <td>-0.654853</td>\n",
       "      <td>0.546406</td>\n",
       "    </tr>\n",
       "    <tr>\n",
       "      <th>9</th>\n",
       "      <td>-1.054624</td>\n",
       "      <td>-0.221407</td>\n",
       "    </tr>\n",
       "  </tbody>\n",
       "</table>\n",
       "</div>"
      ],
      "text/plain": [
       "          0         1\n",
       "0 -0.762177 -0.485428\n",
       "1  0.872217 -1.119764\n",
       "2 -0.852261 -1.399184\n",
       "3  0.804045 -1.257540\n",
       "4 -0.498610  0.446014\n",
       "5  0.040428 -0.567451\n",
       "6  0.497482  0.157098\n",
       "7 -0.972946 -1.196962\n",
       "8 -0.654853  0.546406\n",
       "9 -1.054624 -0.221407"
      ]
     },
     "execution_count": 5,
     "metadata": {},
     "output_type": "execute_result"
    }
   ],
   "source": [
    "df.to_graph(source=0, target=1)"
   ]
  },
  {
   "cell_type": "code",
   "execution_count": 6,
   "metadata": {
    "collapsed": false
   },
   "outputs": [
    {
     "data": {
      "text/plain": [
       "[(-0.7621771992131493, -0.48542789619299875),\n",
       " (-0.85226055349707286, -1.3991839813006963),\n",
       " (-0.97294581874318187, -1.1969620188152952),\n",
       " (-0.49861022058312843, 0.44601383132499639),\n",
       " (-1.1197643389849739, 0.87221742089430154),\n",
       " (-0.5674510585362994, 0.040427564249763764),\n",
       " (0.54640600528071925, -0.65485258686268943),\n",
       " (-0.22140741011418189, -1.0546242489950457),\n",
       " (0.49748177645275737, 0.15709804882686332),\n",
       " (0.80404529557589766, -1.2575396393662954)]"
      ]
     },
     "execution_count": 6,
     "metadata": {},
     "output_type": "execute_result"
    }
   ],
   "source": [
    "df.to_graph(0, 1).edges()"
   ]
  },
  {
   "cell_type": "code",
   "execution_count": 7,
   "metadata": {
    "collapsed": false
   },
   "outputs": [
    {
     "data": {
      "text/plain": [
       "[(-0.7621771992131493, -0.48542789619299875),\n",
       " (-0.85226055349707286, -1.3991839813006963),\n",
       " (-0.97294581874318187, -1.1969620188152952),\n",
       " (-0.49861022058312843, 0.44601383132499639),\n",
       " (-1.1197643389849739, 0.87221742089430154),\n",
       " (-0.5674510585362994, 0.040427564249763764),\n",
       " (0.54640600528071925, -0.65485258686268943),\n",
       " (-0.22140741011418189, -1.0546242489950457),\n",
       " (0.49748177645275737, 0.15709804882686332),\n",
       " (0.80404529557589766, -1.2575396393662954)]"
      ]
     },
     "execution_count": 7,
     "metadata": {},
     "output_type": "execute_result"
    }
   ],
   "source": [
    "df.edges()"
   ]
  },
  {
   "cell_type": "code",
   "execution_count": 8,
   "metadata": {
    "collapsed": false
   },
   "outputs": [
    {
     "data": {
      "text/html": [
       "<div>\n",
       "<table border=\"1\" class=\"dataframe\">\n",
       "  <thead>\n",
       "    <tr style=\"text-align: right;\">\n",
       "      <th></th>\n",
       "      <th>0</th>\n",
       "      <th>1</th>\n",
       "    </tr>\n",
       "  </thead>\n",
       "  <tbody>\n",
       "    <tr>\n",
       "      <th>-0.852261</th>\n",
       "      <td>0.059884</td>\n",
       "      <td>0.73743</td>\n",
       "    </tr>\n",
       "    <tr>\n",
       "      <th>-0.498610</th>\n",
       "      <td>0.468438</td>\n",
       "      <td>1.00000</td>\n",
       "    </tr>\n",
       "  </tbody>\n",
       "</table>\n",
       "</div>"
      ],
      "text/plain": [
       "                  0        1\n",
       "-0.852261  0.059884  0.73743\n",
       "-0.498610  0.468438  1.00000"
      ]
     },
     "execution_count": 8,
     "metadata": {},
     "output_type": "execute_result"
    }
   ],
   "source": [
    "Harness(df.spring_layout()).transpose().sample(2)"
   ]
  },
  {
   "cell_type": "code",
   "execution_count": 9,
   "metadata": {
    "collapsed": false
   },
   "outputs": [
    {
     "data": {
      "image/png": "[encoded data removed]",
      "text/plain": [
       "<matplotlib.figure.Figure at 0x11d5ab400>"
      ]
     },
     "metadata": {},
     "output_type": "display_data"
    }
   ],
   "source": [
    "%matplotlib inline\n",
    "df.draw_circular()"
   ]
  },
  {
   "cell_type": "code",
   "execution_count": 10,
   "metadata": {
    "collapsed": true
   },
   "outputs": [],
   "source": []
  }
 ],
 "metadata": {
  "anaconda-cloud": {},
  "kernelspec": {
   "display_name": "Python [default]",
   "language": "python",
   "name": "python3"
  },
  "language_info": {
   "codemirror_mode": {
    "name": "ipython",
    "version": 3
   },
   "file_extension": ".py",
   "mimetype": "text/x-python",
   "name": "python",
   "nbconvert_exporter": "python",
   "pygments_lexer": "ipython3",
   "version": "3.5.2"
  }
 },
 "nbformat": 4,
 "nbformat_minor": 1
}
