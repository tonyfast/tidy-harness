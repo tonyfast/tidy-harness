{
 "cells": [
  {
   "cell_type": "code",
   "execution_count": 1,
   "metadata": {
    "collapsed": false
   },
   "outputs": [],
   "source": [
    "from harness import Harness\n",
    "import pandas\n",
    "from harness.python.ext import HarnessExtension"
   ]
  },
  {
   "cell_type": "code",
   "execution_count": 2,
   "metadata": {
    "collapsed": false
   },
   "outputs": [],
   "source": [
    "class NetworkXMixin:\n",
    "    graph = None\n",
    "\n",
    "class NetworkXExtension(HarnessExtension):\n",
    "    imports = 'networkx'\n",
    "    mixin = NetworkXMixin\n",
    "    \n",
    "    def keywords(self, dataframe):\n",
    "        return {\n",
    "            'G': lambda: dataframe.graph,\n",
    "            'df': lambda: dataframe,\n",
    "        }\n",
    "    \n",
    "    def to_graph(self, source, target, edge_attr=True, df=None):\n",
    "        df.graph = self.module_.from_pandas_dataframe(\n",
    "            df, source, target, edge_attr\n",
    "        )\n",
    "        return df.graph\n",
    "    \n",
    "    def callback(self, dataframe, value):\n",
    "        if isinstance(value, self.module_.Graph):\n",
    "            return dataframe\n",
    "        return value\n",
    "    \n",
    "    def edges(self, df):\n",
    "        return df.graph.edges()\n",
    "    \n",
    "    def nodes(self, df):\n",
    "        return df.graph.nodes()\n",
    "        "
   ]
  },
  {
   "cell_type": "code",
   "execution_count": 3,
   "metadata": {
    "collapsed": false
   },
   "outputs": [],
   "source": [
    "extensions = [\n",
    "    'harness.python.ext.base.JinjaExtension',\n",
    "    'harness.python.ext.SciKit.SciKitExtension', \n",
    "    'harness.python.ext.Bokeh.BokehModelsExtension',     \n",
    "    'harness.python.ext.Bokeh.BokehPlottingExtension',\n",
    "    'harness.python.ext.Bokeh.BokehChartsExtension',\n",
    "    '__main__.NetworkXExtension'\n",
    "]"
   ]
  },
  {
   "cell_type": "code",
   "execution_count": 4,
   "metadata": {
    "collapsed": false
   },
   "outputs": [],
   "source": [
    "df = Harness(pandas.np.random.randn(10,2), extensions=extensions)"
   ]
  },
  {
   "cell_type": "code",
   "execution_count": 5,
   "metadata": {
    "collapsed": false
   },
   "outputs": [
    {
     "data": {
      "text/html": [
       "<div>\n",
       "<table border=\"1\" class=\"dataframe\">\n",
       "  <thead>\n",
       "    <tr style=\"text-align: right;\">\n",
       "      <th></th>\n",
       "      <th>0</th>\n",
       "      <th>1</th>\n",
       "    </tr>\n",
       "  </thead>\n",
       "  <tbody>\n",
       "    <tr>\n",
       "      <th>0</th>\n",
       "      <td>-1.117878</td>\n",
       "      <td>1.262091</td>\n",
       "    </tr>\n",
       "    <tr>\n",
       "      <th>1</th>\n",
       "      <td>-1.359881</td>\n",
       "      <td>0.319997</td>\n",
       "    </tr>\n",
       "    <tr>\n",
       "      <th>2</th>\n",
       "      <td>1.434786</td>\n",
       "      <td>0.632406</td>\n",
       "    </tr>\n",
       "    <tr>\n",
       "      <th>3</th>\n",
       "      <td>-0.627768</td>\n",
       "      <td>-2.226961</td>\n",
       "    </tr>\n",
       "    <tr>\n",
       "      <th>4</th>\n",
       "      <td>-1.352356</td>\n",
       "      <td>-0.043742</td>\n",
       "    </tr>\n",
       "    <tr>\n",
       "      <th>5</th>\n",
       "      <td>0.577460</td>\n",
       "      <td>-0.980929</td>\n",
       "    </tr>\n",
       "    <tr>\n",
       "      <th>6</th>\n",
       "      <td>0.677719</td>\n",
       "      <td>-0.031278</td>\n",
       "    </tr>\n",
       "    <tr>\n",
       "      <th>7</th>\n",
       "      <td>0.874833</td>\n",
       "      <td>0.123264</td>\n",
       "    </tr>\n",
       "    <tr>\n",
       "      <th>8</th>\n",
       "      <td>-0.496750</td>\n",
       "      <td>0.627734</td>\n",
       "    </tr>\n",
       "    <tr>\n",
       "      <th>9</th>\n",
       "      <td>1.089115</td>\n",
       "      <td>-0.090981</td>\n",
       "    </tr>\n",
       "  </tbody>\n",
       "</table>\n",
       "</div>"
      ],
      "text/plain": [
       "          0         1\n",
       "0 -1.117878  1.262091\n",
       "1 -1.359881  0.319997\n",
       "2  1.434786  0.632406\n",
       "3 -0.627768 -2.226961\n",
       "4 -1.352356 -0.043742\n",
       "5  0.577460 -0.980929\n",
       "6  0.677719 -0.031278\n",
       "7  0.874833  0.123264\n",
       "8 -0.496750  0.627734\n",
       "9  1.089115 -0.090981"
      ]
     },
     "execution_count": 5,
     "metadata": {},
     "output_type": "execute_result"
    }
   ],
   "source": [
    "df.to_graph(source=0, target=1)"
   ]
  },
  {
   "cell_type": "code",
   "execution_count": 6,
   "metadata": {
    "collapsed": false
   },
   "outputs": [
    {
     "data": {
      "text/plain": [
       "[(0.31999679444203105, -1.3598809977366302),\n",
       " (1.2620913813930383, -1.1178781224538343),\n",
       " (-0.49675022780319023, 0.62773419742106085),\n",
       " (1.4347864011340115, 0.63240646399100764),\n",
       " (-0.043741889938154949, -1.3523562694971041),\n",
       " (-0.031278057054313593, 0.67771868270860069),\n",
       " (0.12326369370788465, 0.87483306496355573),\n",
       " (0.57746008474171939, -0.98092933524192161),\n",
       " (-0.6277682035366926, -2.2269610526154016),\n",
       " (1.0891147149001867, -0.090980690694986377)]"
      ]
     },
     "execution_count": 6,
     "metadata": {},
     "output_type": "execute_result"
    }
   ],
   "source": [
    "df.to_graph(0, 1).edges()"
   ]
  },
  {
   "cell_type": "code",
   "execution_count": 7,
   "metadata": {
    "collapsed": false
   },
   "outputs": [
    {
     "data": {
      "text/plain": [
       "[(0.31999679444203105, -1.3598809977366302),\n",
       " (1.2620913813930383, -1.1178781224538343),\n",
       " (-0.49675022780319023, 0.62773419742106085),\n",
       " (1.4347864011340115, 0.63240646399100764),\n",
       " (-0.043741889938154949, -1.3523562694971041),\n",
       " (-0.031278057054313593, 0.67771868270860069),\n",
       " (0.12326369370788465, 0.87483306496355573),\n",
       " (0.57746008474171939, -0.98092933524192161),\n",
       " (-0.6277682035366926, -2.2269610526154016),\n",
       " (1.0891147149001867, -0.090980690694986377)]"
      ]
     },
     "execution_count": 7,
     "metadata": {},
     "output_type": "execute_result"
    }
   ],
   "source": [
    "df.edges()"
   ]
  },
  {
   "cell_type": "code",
   "execution_count": 8,
   "metadata": {
    "collapsed": false
   },
   "outputs": [
    {
     "data": {
      "text/html": [
       "<div>\n",
       "<table border=\"1\" class=\"dataframe\">\n",
       "  <thead>\n",
       "    <tr style=\"text-align: right;\">\n",
       "      <th></th>\n",
       "      <th>0</th>\n",
       "      <th>1</th>\n",
       "    </tr>\n",
       "  </thead>\n",
       "  <tbody>\n",
       "    <tr>\n",
       "      <th>0.319997</th>\n",
       "      <td>0.072384</td>\n",
       "      <td>0.232406</td>\n",
       "    </tr>\n",
       "    <tr>\n",
       "      <th>-1.352356</th>\n",
       "      <td>0.875902</td>\n",
       "      <td>0.171825</td>\n",
       "    </tr>\n",
       "  </tbody>\n",
       "</table>\n",
       "</div>"
      ],
      "text/plain": [
       "                  0         1\n",
       " 0.319997  0.072384  0.232406\n",
       "-1.352356  0.875902  0.171825"
      ]
     },
     "execution_count": 8,
     "metadata": {},
     "output_type": "execute_result"
    }
   ],
   "source": [
    "Harness(df.spring_layout()).transpose().sample(2)"
   ]
  },
  {
   "cell_type": "code",
   "execution_count": 9,
   "metadata": {
    "collapsed": false
   },
   "outputs": [
    {
     "data": {
      "image/png": "[encoded data removed]",
      "text/plain": [
       "<matplotlib.figure.Figure at 0x11de02f98>"
      ]
     },
     "metadata": {},
     "output_type": "display_data"
    }
   ],
   "source": [
    "%matplotlib inline\n",
    "df.draw_circular()"
   ]
  },
  {
   "cell_type": "code",
   "execution_count": 10,
   "metadata": {
    "collapsed": true
   },
   "outputs": [],
   "source": []
  }
 ],
 "metadata": {
  "anaconda-cloud": {},
  "kernelspec": {
   "display_name": "Python [default]",
   "language": "python",
   "name": "python3"
  },
  "language_info": {
   "codemirror_mode": {
    "name": "ipython",
    "version": 3
   },
   "file_extension": ".py",
   "mimetype": "text/x-python",
   "name": "python",
   "nbconvert_exporter": "python",
   "pygments_lexer": "ipython3",
   "version": "3.5.2"
  }
 },
 "nbformat": 4,
 "nbformat_minor": 1
}
