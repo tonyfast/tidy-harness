{
 "cells": [
  {
   "cell_type": "code",
   "execution_count": 1,
   "metadata": {
    "collapsed": false
   },
   "outputs": [],
   "source": [
    "from harness import Harness\n",
    "import pandas\n",
    "from harness.ext import HarnessExtension"
   ]
  },
  {
   "cell_type": "code",
   "execution_count": 2,
   "metadata": {
    "collapsed": false
   },
   "outputs": [],
   "source": [
    "class NetworkXMixin:\n",
    "    graph = None\n",
    "\n",
    "class NetworkX(HarnessExtension):\n",
    "    imports = 'networkx'\n",
    "    mixin = NetworkXMixin\n",
    "    \n",
    "    def keywords(self, dataframe):\n",
    "        return {\n",
    "            'G': lambda: dataframe.graph,\n",
    "            'df': lambda: dataframe,\n",
    "        }\n",
    "    \n",
    "    def to_graph(self, source, target, edge_attr=True, df=None):\n",
    "        df.graph = self.module_.from_pandas_dataframe(\n",
    "            df, source, target, edge_attr\n",
    "        )\n",
    "        return df.graph\n",
    "    \n",
    "    def callback(self, dataframe, value):\n",
    "        if isinstance(value, self.module_.Graph):\n",
    "            return dataframe\n",
    "        return value\n",
    "    \n",
    "    def edges(self, df):\n",
    "        return df.graph.edges()\n",
    "    \n",
    "    def nodes(self, df):\n",
    "        return df.graph.nodes()\n",
    "        "
   ]
  },
  {
   "cell_type": "code",
   "execution_count": 3,
   "metadata": {
    "collapsed": false
   },
   "outputs": [],
   "source": [
    "extensions = [\n",
    "    'harness.ext.base.JinjaExtension',\n",
    "    'harness.ext.SciKit.SciKitExtension', \n",
    "    'harness.ext.Bokeh.BokehModelsExtension',     \n",
    "    'harness.ext.Bokeh.BokehPlottingExtension',\n",
    "    'harness.ext.Bokeh.BokehChartsExtension',\n",
    "    '__main__.NetworkX'\n",
    "]"
   ]
  },
  {
   "cell_type": "code",
   "execution_count": 4,
   "metadata": {
    "collapsed": false
   },
   "outputs": [
    {
     "name": "stdout",
     "output_type": "stream",
     "text": [
      "Object `model_selection.ShuffleSplit` not found.\n"
     ]
    }
   ],
   "source": [
    "df = Harness(pandas.np.random.randn(10,2), extensions=extensions)"
   ]
  },
  {
   "cell_type": "code",
   "execution_count": 5,
   "metadata": {
    "collapsed": false
   },
   "outputs": [
    {
     "data": {
      "text/html": [
       "<div>\n",
       "<table border=\"1\" class=\"dataframe\">\n",
       "  <thead>\n",
       "    <tr style=\"text-align: right;\">\n",
       "      <th></th>\n",
       "      <th>0</th>\n",
       "      <th>1</th>\n",
       "    </tr>\n",
       "  </thead>\n",
       "  <tbody>\n",
       "    <tr>\n",
       "      <th>0</th>\n",
       "      <td>-0.060750</td>\n",
       "      <td>-0.253790</td>\n",
       "    </tr>\n",
       "    <tr>\n",
       "      <th>1</th>\n",
       "      <td>-1.026685</td>\n",
       "      <td>0.326553</td>\n",
       "    </tr>\n",
       "    <tr>\n",
       "      <th>2</th>\n",
       "      <td>-1.387309</td>\n",
       "      <td>0.005045</td>\n",
       "    </tr>\n",
       "    <tr>\n",
       "      <th>3</th>\n",
       "      <td>-0.067928</td>\n",
       "      <td>0.373072</td>\n",
       "    </tr>\n",
       "    <tr>\n",
       "      <th>4</th>\n",
       "      <td>0.153534</td>\n",
       "      <td>-0.596945</td>\n",
       "    </tr>\n",
       "    <tr>\n",
       "      <th>5</th>\n",
       "      <td>-0.617026</td>\n",
       "      <td>-0.519781</td>\n",
       "    </tr>\n",
       "    <tr>\n",
       "      <th>6</th>\n",
       "      <td>2.059311</td>\n",
       "      <td>-0.559121</td>\n",
       "    </tr>\n",
       "    <tr>\n",
       "      <th>7</th>\n",
       "      <td>-0.026931</td>\n",
       "      <td>-0.741157</td>\n",
       "    </tr>\n",
       "    <tr>\n",
       "      <th>8</th>\n",
       "      <td>-1.567538</td>\n",
       "      <td>-0.636204</td>\n",
       "    </tr>\n",
       "    <tr>\n",
       "      <th>9</th>\n",
       "      <td>0.808769</td>\n",
       "      <td>-1.187760</td>\n",
       "    </tr>\n",
       "  </tbody>\n",
       "</table>\n",
       "</div>"
      ],
      "text/plain": [
       "          0         1\n",
       "0 -0.060750 -0.253790\n",
       "1 -1.026685  0.326553\n",
       "2 -1.387309  0.005045\n",
       "3 -0.067928  0.373072\n",
       "4  0.153534 -0.596945\n",
       "5 -0.617026 -0.519781\n",
       "6  2.059311 -0.559121\n",
       "7 -0.026931 -0.741157\n",
       "8 -1.567538 -0.636204\n",
       "9  0.808769 -1.187760"
      ]
     },
     "execution_count": 5,
     "metadata": {},
     "output_type": "execute_result"
    }
   ],
   "source": [
    "\n",
    "\n",
    "df.to_graph(source=0, target=1)"
   ]
  },
  {
   "cell_type": "code",
   "execution_count": 6,
   "metadata": {
    "collapsed": false
   },
   "outputs": [
    {
     "data": {
      "text/plain": [
       "[(-0.25379047725131842, -0.060750239618377715),\n",
       " (0.37307240107073508, -0.067927526155789217),\n",
       " (2.0593112930961932, -0.55912094661579947),\n",
       " (-1.1877600695552708, 0.80876927114852271),\n",
       " (-0.59694524616655542, 0.15353449812531977),\n",
       " (-0.0269310078729127, -0.74115696564660605),\n",
       " (-0.6362040599004043, -1.5675378314053467),\n",
       " (0.0050445278433665589, -1.3873086162090338),\n",
       " (0.32655290372139034, -1.0266854323813419),\n",
       " (-0.61702578953163578, -0.51978096698163345)]"
      ]
     },
     "execution_count": 6,
     "metadata": {},
     "output_type": "execute_result"
    }
   ],
   "source": [
    "df.to_graph(0, 1).edges()"
   ]
  },
  {
   "cell_type": "code",
   "execution_count": 7,
   "metadata": {
    "collapsed": false
   },
   "outputs": [
    {
     "data": {
      "text/html": [
       "<div>\n",
       "<table border=\"1\" class=\"dataframe\">\n",
       "  <thead>\n",
       "    <tr style=\"text-align: right;\">\n",
       "      <th></th>\n",
       "      <th>0</th>\n",
       "      <th>1</th>\n",
       "    </tr>\n",
       "  </thead>\n",
       "  <tbody>\n",
       "    <tr>\n",
       "      <th>-0.519781</th>\n",
       "      <td>0.026763</td>\n",
       "      <td>0.668988</td>\n",
       "    </tr>\n",
       "    <tr>\n",
       "      <th>0.326553</th>\n",
       "      <td>0.958579</td>\n",
       "      <td>0.271178</td>\n",
       "    </tr>\n",
       "  </tbody>\n",
       "</table>\n",
       "</div>"
      ],
      "text/plain": [
       "                  0         1\n",
       "-0.519781  0.026763  0.668988\n",
       " 0.326553  0.958579  0.271178"
      ]
     },
     "execution_count": 7,
     "metadata": {},
     "output_type": "execute_result"
    }
   ],
   "source": [
    "Harness(df.spring_layout()).transpose().sample(2)"
   ]
  },
  {
   "cell_type": "code",
   "execution_count": 8,
   "metadata": {
    "collapsed": false
   },
   "outputs": [
    {
     "data": {
      "image/png": "[encoded data removed]",
      "text/plain": [
       "<matplotlib.figure.Figure at 0x11d84c588>"
      ]
     },
     "metadata": {},
     "output_type": "display_data"
    }
   ],
   "source": [
    "%matplotlib inline\n",
    "df.draw_circular()"
   ]
  }
 ],
 "metadata": {
  "anaconda-cloud": {},
  "kernelspec": {
   "display_name": "Python [default]",
   "language": "python",
   "name": "python3"
  },
  "language_info": {
   "codemirror_mode": {
    "name": "ipython",
    "version": 3
   },
   "file_extension": ".py",
   "mimetype": "text/x-python",
   "name": "python",
   "nbconvert_exporter": "python",
   "pygments_lexer": "ipython3",
   "version": "3.5.2"
  }
 },
 "nbformat": 4,
 "nbformat_minor": 1
}
